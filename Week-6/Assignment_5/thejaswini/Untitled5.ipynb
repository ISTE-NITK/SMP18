{
  "nbformat": 4,
  "nbformat_minor": 0,
  "metadata": {
    "colab": {
      "name": "Untitled5.ipynb",
      "version": "0.3.2",
      "views": {},
      "default_view": {},
      "provenance": [],
      "collapsed_sections": []
    },
    "kernelspec": {
      "name": "python3",
      "display_name": "Python 3"
    }
  },
  "cells": [
    {
      "metadata": {
        "id": "Co4ACURHqRl2",
        "colab_type": "code",
        "colab": {
          "autoexec": {
            "startup": false,
            "wait_interval": 0
          },
          "base_uri": "https://localhost:8080/",
          "height": 17
        },
        "outputId": "cee8727f-c163-4e45-9b07-14880fc9e5af",
        "executionInfo": {
          "status": "ok",
          "timestamp": 1530714270162,
          "user_tz": -330,
          "elapsed": 1145,
          "user": {
            "displayName": "Tejaswini Tejaswini",
            "photoUrl": "https://lh3.googleusercontent.com/a/default-user=s128",
            "userId": "116953376004194052873"
          }
        }
      },
      "cell_type": "code",
      "source": [
        "import sklearn\n",
        "import numpy as np\n",
        "import pandas as pd\n",
        "import scipy.stats as stats\n",
        "import seaborn as sns\n",
        "from sklearn.datasets import load_breast_cancer"
      ],
      "execution_count": 3,
      "outputs": []
    },
    {
      "metadata": {
        "id": "P5GesOBRrip3",
        "colab_type": "code",
        "colab": {
          "autoexec": {
            "startup": false,
            "wait_interval": 0
          },
          "base_uri": "https://localhost:8080/",
          "height": 37
        },
        "outputId": "7d4fe4d6-5d88-4d87-9c8b-51294e8df133",
        "executionInfo": {
          "status": "ok",
          "timestamp": 1530714289993,
          "user_tz": -330,
          "elapsed": 1237,
          "user": {
            "displayName": "Tejaswini Tejaswini",
            "photoUrl": "https://lh3.googleusercontent.com/a/default-user=s128",
            "userId": "116953376004194052873"
          }
        }
      },
      "cell_type": "code",
      "source": [
        "data = load_breast_cancer()"
      ],
      "execution_count": 4,
      "outputs": []
    },
    {
      "metadata": {
        "id": "Kf-FLNR-roXf",
        "colab_type": "code",
        "colab": {
          "autoexec": {
            "startup": false,
            "wait_interval": 0
          },
          "base_uri": "https://localhost:8080/",
          "height": 37
        },
        "outputId": "e588fa0e-5f72-41a1-a6e9-1c9f07f5de6e",
        "executionInfo": {
          "status": "ok",
          "timestamp": 1530714341202,
          "user_tz": -330,
          "elapsed": 1301,
          "user": {
            "displayName": "Tejaswini Tejaswini",
            "photoUrl": "https://lh3.googleusercontent.com/a/default-user=s128",
            "userId": "116953376004194052873"
          }
        }
      },
      "cell_type": "code",
      "source": [
        "features=data.feature_names\n"
      ],
      "execution_count": 5,
      "outputs": []
    },
    {
      "metadata": {
        "id": "h3s3CohTr1fO",
        "colab_type": "code",
        "colab": {
          "autoexec": {
            "startup": false,
            "wait_interval": 0
          },
          "base_uri": "https://localhost:8080/",
          "height": 168
        },
        "outputId": "e7907628-24ea-4e73-b221-07be2547f407",
        "executionInfo": {
          "status": "ok",
          "timestamp": 1530714361364,
          "user_tz": -330,
          "elapsed": 1089,
          "user": {
            "displayName": "Tejaswini Tejaswini",
            "photoUrl": "https://lh3.googleusercontent.com/a/default-user=s128",
            "userId": "116953376004194052873"
          }
        }
      },
      "cell_type": "code",
      "source": [
        "print(features)"
      ],
      "execution_count": 6,
      "outputs": [
        {
          "output_type": "stream",
          "text": [
            "['mean radius' 'mean texture' 'mean perimeter' 'mean area'\n",
            " 'mean smoothness' 'mean compactness' 'mean concavity'\n",
            " 'mean concave points' 'mean symmetry' 'mean fractal dimension'\n",
            " 'radius error' 'texture error' 'perimeter error' 'area error'\n",
            " 'smoothness error' 'compactness error' 'concavity error'\n",
            " 'concave points error' 'symmetry error' 'fractal dimension error'\n",
            " 'worst radius' 'worst texture' 'worst perimeter' 'worst area'\n",
            " 'worst smoothness' 'worst compactness' 'worst concavity'\n",
            " 'worst concave points' 'worst symmetry' 'worst fractal dimension']\n"
          ],
          "name": "stdout"
        }
      ]
    },
    {
      "metadata": {
        "id": "G9bn5UOWr5Cv",
        "colab_type": "code",
        "colab": {
          "autoexec": {
            "startup": false,
            "wait_interval": 0
          },
          "base_uri": "https://localhost:8080/",
          "height": 286
        },
        "outputId": "35ae780b-0396-45f9-c1aa-9a4589216acb",
        "executionInfo": {
          "status": "ok",
          "timestamp": 1530714897982,
          "user_tz": -330,
          "elapsed": 1156,
          "user": {
            "displayName": "Tejaswini Tejaswini",
            "photoUrl": "https://lh3.googleusercontent.com/a/default-user=s128",
            "userId": "116953376004194052873"
          }
        }
      },
      "cell_type": "code",
      "source": [
        "t=data['target']\n",
        "m= data['data']\n",
        "print(t)"
      ],
      "execution_count": 14,
      "outputs": [
        {
          "output_type": "stream",
          "text": [
            "[0 0 0 0 0 0 0 0 0 0 0 0 0 0 0 0 0 0 0 1 1 1 0 0 0 0 0 0 0 0 0 0 0 0 0 0 0\n",
            " 1 0 0 0 0 0 0 0 0 1 0 1 1 1 1 1 0 0 1 0 0 1 1 1 1 0 1 0 0 1 1 1 1 0 1 0 0\n",
            " 1 0 1 0 0 1 1 1 0 0 1 0 0 0 1 1 1 0 1 1 0 0 1 1 1 0 0 1 1 1 1 0 1 1 0 1 1\n",
            " 1 1 1 1 1 1 0 0 0 1 0 0 1 1 1 0 0 1 0 1 0 0 1 0 0 1 1 0 1 1 0 1 1 1 1 0 1\n",
            " 1 1 1 1 1 1 1 1 0 1 1 1 1 0 0 1 0 1 1 0 0 1 1 0 0 1 1 1 1 0 1 1 0 0 0 1 0\n",
            " 1 0 1 1 1 0 1 1 0 0 1 0 0 0 0 1 0 0 0 1 0 1 0 1 1 0 1 0 0 0 0 1 1 0 0 1 1\n",
            " 1 0 1 1 1 1 1 0 0 1 1 0 1 1 0 0 1 0 1 1 1 1 0 1 1 1 1 1 0 1 0 0 0 0 0 0 0\n",
            " 0 0 0 0 0 0 0 1 1 1 1 1 1 0 1 0 1 1 0 1 1 0 1 0 0 1 1 1 1 1 1 1 1 1 1 1 1\n",
            " 1 0 1 1 0 1 0 1 1 1 1 1 1 1 1 1 1 1 1 1 1 0 1 1 1 0 1 0 1 1 1 1 0 0 0 1 1\n",
            " 1 1 0 1 0 1 0 1 1 1 0 1 1 1 1 1 1 1 0 0 0 1 1 1 1 1 1 1 1 1 1 1 0 0 1 0 0\n",
            " 0 1 0 0 1 1 1 1 1 0 1 1 1 1 1 0 1 1 1 0 1 1 0 0 1 1 1 1 1 1 0 1 1 1 1 1 1\n",
            " 1 0 1 1 1 1 1 0 1 1 0 1 1 1 1 1 1 1 1 1 1 1 1 0 1 0 0 1 0 1 1 1 1 1 0 1 1\n",
            " 0 1 0 1 1 0 1 0 1 1 1 1 1 1 1 1 0 0 1 1 1 1 1 1 0 1 1 1 1 1 1 1 1 1 1 0 1\n",
            " 1 1 1 1 1 1 0 1 0 1 1 0 1 1 1 1 1 0 0 1 0 1 0 1 1 1 1 1 0 1 1 0 1 0 1 0 0\n",
            " 1 1 1 0 1 1 1 1 1 1 1 1 1 1 1 0 1 0 0 1 1 1 1 1 1 1 1 1 1 1 1 1 1 1 1 1 1\n",
            " 1 1 1 1 1 1 1 0 0 0 0 0 0 1]\n"
          ],
          "name": "stdout"
        }
      ]
    },
    {
      "metadata": {
        "id": "MiBbQ1BHsbd9",
        "colab_type": "code",
        "colab": {
          "autoexec": {
            "startup": false,
            "wait_interval": 0
          },
          "base_uri": "https://localhost:8080/",
          "height": 17
        },
        "outputId": "ba6e9e91-f37b-4387-91fd-a8201e8c2323",
        "executionInfo": {
          "status": "ok",
          "timestamp": 1530714906407,
          "user_tz": -330,
          "elapsed": 1037,
          "user": {
            "displayName": "Tejaswini Tejaswini",
            "photoUrl": "https://lh3.googleusercontent.com/a/default-user=s128",
            "userId": "116953376004194052873"
          }
        }
      },
      "cell_type": "code",
      "source": [
        "from sklearn.model_selection import train_test_split\n",
        "t_ , m_ ,t_test, m_test=train_test_split(m,t,test_size=0.33,random_state=25)"
      ],
      "execution_count": 15,
      "outputs": []
    },
    {
      "metadata": {
        "id": "FxCpgeBKrb3w",
        "colab_type": "code",
        "colab": {
          "autoexec": {
            "startup": false,
            "wait_interval": 0
          },
          "base_uri": "https://localhost:8080/",
          "height": 151
        },
        "outputId": "d4a61e3f-636d-4ca1-c003-e6ee7ba02b9d",
        "executionInfo": {
          "status": "ok",
          "timestamp": 1530716728516,
          "user_tz": -330,
          "elapsed": 1064,
          "user": {
            "displayName": "Tejaswini Tejaswini",
            "photoUrl": "https://lh3.googleusercontent.com/a/default-user=s128",
            "userId": "116953376004194052873"
          }
        }
      },
      "cell_type": "code",
      "source": [
        "from sklearn.naive_bayes import GaussianNB\n",
        "from sklearn.metrics import accuracy_score\n",
        "cl=GaussianNB()\n",
        "cl.fit(t_,t_test)\n",
        "m_pred=cl.predict(m_)\n",
        "print(m_pred)\n",
        "print(accuracy_score(m_test,m_pred))\n",
        "mse=sklearn.metrics.mean_squared_error(m_test,m_pred)\n",
        "print(mse)\n"
      ],
      "execution_count": 32,
      "outputs": [
        {
          "output_type": "stream",
          "text": [
            "[1 1 1 1 1 1 1 1 1 1 1 1 0 0 0 0 0 1 1 0 1 0 1 0 0 0 1 0 1 0 0 1 1 0 0 0 1\n",
            " 1 0 1 1 1 1 1 0 1 1 1 1 1 0 1 1 1 0 1 0 1 1 0 0 1 0 1 1 1 1 0 1 1 1 1 1 1\n",
            " 0 1 0 1 0 1 1 0 0 1 0 1 1 0 1 1 1 1 1 0 1 1 0 0 1 0 0 1 0 1 0 1 0 1 0 1 1\n",
            " 0 1 1 0 1 1 1 0 1 1 0 1 1 0 1 1 1 1 0 1 0 1 1 0 1 1 1 0 0 1 0 1 0 1 1 0 1\n",
            " 1 0 0 1 1 1 1 0 1 1 1 1 0 1 1 0 0 1 1 1 1 1 1 1 1 1 1 1 0 1 1 0 1 1 1 0 1\n",
            " 1 1 1]\n",
            "0.9095744680851063\n",
            "0.09042553191489362\n"
          ],
          "name": "stdout"
        }
      ]
    },
    {
      "metadata": {
        "id": "S9aYCgoNvZts",
        "colab_type": "code",
        "colab": {
          "autoexec": {
            "startup": false,
            "wait_interval": 0
          },
          "base_uri": "https://localhost:8080/",
          "height": 34
        },
        "outputId": "607669e8-b5ed-4387-fd5c-8eec837c25bf",
        "executionInfo": {
          "status": "ok",
          "timestamp": 1530715701183,
          "user_tz": -330,
          "elapsed": 1048,
          "user": {
            "displayName": "Tejaswini Tejaswini",
            "photoUrl": "https://lh3.googleusercontent.com/a/default-user=s128",
            "userId": "116953376004194052873"
          }
        }
      },
      "cell_type": "code",
      "source": [
        "from sklearn.linear_model import LinearRegression\n",
        "lm=LinearRegression()\n",
        "lm.fit(t_,t_test)\n",
        "k=lm.predict(m_)\n",
        "mse=sklearn.metrics.mean_squared_error(m_test,k)\n",
        "print(mse)\n",
        "#mse = sklearn.metrics.mean_squared_error(Y_test, Y_pred)\n"
      ],
      "execution_count": 25,
      "outputs": [
        {
          "output_type": "stream",
          "text": [
            "0.06834002370197463\n"
          ],
          "name": "stdout"
        }
      ]
    },
    {
      "metadata": {
        "id": "7sbGsjhPxN3T",
        "colab_type": "code",
        "colab": {
          "autoexec": {
            "startup": false,
            "wait_interval": 0
          },
          "base_uri": "https://localhost:8080/",
          "height": 37
        },
        "outputId": "9eddd2a2-f232-4cc1-ec8d-6fab1469e004",
        "executionInfo": {
          "status": "ok",
          "timestamp": 1530715788204,
          "user_tz": -330,
          "elapsed": 1124,
          "user": {
            "displayName": "Tejaswini Tejaswini",
            "photoUrl": "https://lh3.googleusercontent.com/a/default-user=s128",
            "userId": "116953376004194052873"
          }
        }
      },
      "cell_type": "code",
      "source": [
        "import matplotlib.pyplot as plt\n",
        "from matplotlib.colors import ListedColormap\n",
        "from sklearn.model_selection import train_test_split\n",
        "from sklearn.preprocessing import StandardScaler\n",
        "from sklearn.datasets import make_moons, make_circles, make_classification\n",
        "from sklearn.neural_network import MLPClassifier\n",
        "from sklearn.neighbors import KNeighborsClassifier\n",
        "from sklearn.svm import SVC\n",
        "from sklearn.gaussian_process import GaussianProcessClassifier\n",
        "from sklearn.gaussian_process.kernels import RBF\n",
        "from sklearn.tree import DecisionTreeClassifier\n",
        "from sklearn.ensemble import RandomForestClassifier, AdaBoostClassifier\n",
        "from sklearn.naive_bayes import GaussianNB\n",
        "from sklearn.discriminant_analysis import QuadraticDiscriminantAnalysis"
      ],
      "execution_count": 26,
      "outputs": []
    },
    {
      "metadata": {
        "id": "xGXAs-zyxVha",
        "colab_type": "code",
        "colab": {
          "autoexec": {
            "startup": false,
            "wait_interval": 0
          },
          "base_uri": "https://localhost:8080/",
          "height": 34
        },
        "outputId": "e9d9116c-38b1-4ea7-f606-f47fb546014e",
        "executionInfo": {
          "status": "ok",
          "timestamp": 1530715923976,
          "user_tz": -330,
          "elapsed": 1001,
          "user": {
            "displayName": "Tejaswini Tejaswini",
            "photoUrl": "https://lh3.googleusercontent.com/a/default-user=s128",
            "userId": "116953376004194052873"
          }
        }
      },
      "cell_type": "code",
      "source": [
        "q=QuadraticDiscriminantAnalysis()\n",
        "q.fit(t_,t_test)\n",
        "k=q.predict(m_)\n",
        "mse=sklearn.metrics.mean_squared_error(m_test,k)\n",
        "print(mse)\n"
      ],
      "execution_count": 27,
      "outputs": [
        {
          "output_type": "stream",
          "text": [
            "0.0425531914893617\n"
          ],
          "name": "stdout"
        }
      ]
    },
    {
      "metadata": {
        "id": "qB3kdmcTyJ45",
        "colab_type": "code",
        "colab": {
          "autoexec": {
            "startup": false,
            "wait_interval": 0
          },
          "base_uri": "https://localhost:8080/",
          "height": 34
        },
        "outputId": "bd9d4846-3346-4314-9352-95b789a73a8b",
        "executionInfo": {
          "status": "ok",
          "timestamp": 1530716069170,
          "user_tz": -330,
          "elapsed": 1422,
          "user": {
            "displayName": "Tejaswini Tejaswini",
            "photoUrl": "https://lh3.googleusercontent.com/a/default-user=s128",
            "userId": "116953376004194052873"
          }
        }
      },
      "cell_type": "code",
      "source": [
        "a=AdaBoostClassifier()\n",
        "a.fit(t_,t_test)\n",
        "l=a.predict(m_)\n",
        "mse=sklearn.metrics.mean_squared_error(m_test,l)\n",
        "print(mse)"
      ],
      "execution_count": 29,
      "outputs": [
        {
          "output_type": "stream",
          "text": [
            "0.0425531914893617\n"
          ],
          "name": "stdout"
        }
      ]
    },
    {
      "metadata": {
        "id": "xwjZz5V7ycSz",
        "colab_type": "code",
        "colab": {
          "autoexec": {
            "startup": false,
            "wait_interval": 0
          },
          "base_uri": "https://localhost:8080/",
          "height": 34
        },
        "outputId": "c6b8540e-ef7f-4053-d109-4f888dd4fbc0",
        "executionInfo": {
          "status": "ok",
          "timestamp": 1530716127726,
          "user_tz": -330,
          "elapsed": 1101,
          "user": {
            "displayName": "Tejaswini Tejaswini",
            "photoUrl": "https://lh3.googleusercontent.com/a/default-user=s128",
            "userId": "116953376004194052873"
          }
        }
      },
      "cell_type": "code",
      "source": [
        "b=MLPClassifier(alpha=1)\n",
        "b.fit(t_,t_test)\n",
        "l=b.predict(m_)\n",
        "mse=sklearn.metrics.mean_squared_error(m_test,l)\n",
        "print(mse)"
      ],
      "execution_count": 30,
      "outputs": [
        {
          "output_type": "stream",
          "text": [
            "0.11170212765957446\n"
          ],
          "name": "stdout"
        }
      ]
    },
    {
      "metadata": {
        "id": "MYPBPrw20k_3",
        "colab_type": "code",
        "colab": {
          "autoexec": {
            "startup": false,
            "wait_interval": 0
          },
          "base_uri": "https://localhost:8080/",
          "height": 34
        },
        "outputId": "8ed89a27-9846-4ea4-dc60-404ddaa05f65",
        "executionInfo": {
          "status": "ok",
          "timestamp": 1530716762925,
          "user_tz": -330,
          "elapsed": 1206,
          "user": {
            "displayName": "Tejaswini Tejaswini",
            "photoUrl": "https://lh3.googleusercontent.com/a/default-user=s128",
            "userId": "116953376004194052873"
          }
        }
      },
      "cell_type": "code",
      "source": [
        "c=RandomForestClassifier(max_depth=5, n_estimators=10, max_features=1)\n",
        "c.fit(t_,t_test)\n",
        "l=c.predict(m_)\n",
        "mse=sklearn.metrics.mean_squared_error(m_test,l)\n",
        "print(mse)"
      ],
      "execution_count": 33,
      "outputs": [
        {
          "output_type": "stream",
          "text": [
            "0.09042553191489362\n"
          ],
          "name": "stdout"
        }
      ]
    },
    {
      "metadata": {
        "id": "fOvAGhkF1DUV",
        "colab_type": "code",
        "colab": {
          "autoexec": {
            "startup": false,
            "wait_interval": 0
          },
          "base_uri": "https://localhost:8080/",
          "height": 34
        },
        "outputId": "c0d949b2-510e-45a4-b54e-7f18f9b91c29",
        "executionInfo": {
          "status": "ok",
          "timestamp": 1530716825823,
          "user_tz": -330,
          "elapsed": 1020,
          "user": {
            "displayName": "Tejaswini Tejaswini",
            "photoUrl": "https://lh3.googleusercontent.com/a/default-user=s128",
            "userId": "116953376004194052873"
          }
        }
      },
      "cell_type": "code",
      "source": [
        "d= DecisionTreeClassifier(max_depth=5)\n",
        "d.fit(t_,t_test)\n",
        "l=d.predict(m_)\n",
        "mse=sklearn.metrics.mean_squared_error(m_test,l)\n",
        "print(mse)"
      ],
      "execution_count": 34,
      "outputs": [
        {
          "output_type": "stream",
          "text": [
            "0.10638297872340426\n"
          ],
          "name": "stdout"
        }
      ]
    },
    {
      "metadata": {
        "id": "M4jy4eon1Upp",
        "colab_type": "code",
        "colab": {
          "autoexec": {
            "startup": false,
            "wait_interval": 0
          },
          "base_uri": "https://localhost:8080/",
          "height": 34
        },
        "outputId": "45e166b0-fd26-4391-8067-9cf3dab8391d",
        "executionInfo": {
          "status": "ok",
          "timestamp": 1530717083212,
          "user_tz": -330,
          "elapsed": 195367,
          "user": {
            "displayName": "Tejaswini Tejaswini",
            "photoUrl": "https://lh3.googleusercontent.com/a/default-user=s128",
            "userId": "116953376004194052873"
          }
        }
      },
      "cell_type": "code",
      "source": [
        "e=GaussianProcessClassifier(1.0 * RBF(1.0))\n",
        "e.fit(t_,t_test)\n",
        "l=e.predict(m_)\n",
        "mse=sklearn.metrics.mean_squared_error(m_test,l)\n",
        "print(mse)\n"
      ],
      "execution_count": 35,
      "outputs": [
        {
          "output_type": "stream",
          "text": [
            "0.06914893617021277\n"
          ],
          "name": "stdout"
        }
      ]
    }
  ]
}