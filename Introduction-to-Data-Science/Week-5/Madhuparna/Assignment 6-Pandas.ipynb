{
 "cells": [
  {
   "cell_type": "code",
   "execution_count": 248,
   "metadata": {},
   "outputs": [],
   "source": [
    "import numpy as np\n",
    "import pandas as pd\n",
    "player=pd.read_csv(\"DIM_PLAYER.csv\",delimiter=',',encoding=\"ISO-8859-1\")\n",
    "player_match=pd.read_csv(\"DIM_PLAYER_MATCH.csv\",delimiter=',',encoding=\"ISO-8859-1\",skiprows=[1])\n",
    "team=pd.read_csv(\"DIM_TEAM.csv\",delimiter=',',encoding=\"ISO-8859-1\")"
   ]
  },
  {
   "cell_type": "code",
   "execution_count": 249,
   "metadata": {},
   "outputs": [
    {
     "name": "stdout",
     "output_type": "stream",
     "text": [
      "SEASON  2008 :\n",
      "\n",
      "Total number of players: 163\n",
      "Total number of young players : 71\n",
      "Percentage of young players is :  43.558282208588956 %\n",
      "Team with max number of young players is : Mumbai Indians \n",
      "\n",
      "SEASON  2009 :\n",
      "\n",
      "Total number of players: 165\n",
      "Total number of young players : 72\n",
      "Percentage of young players is :  43.63636363636363 %\n",
      "Team with max number of young players is : Royal Challengers Bangalore \n",
      "\n",
      "SEASON  2010 :\n",
      "\n",
      "Total number of players: 181\n",
      "Total number of young players : 66\n",
      "Percentage of young players is :  36.46408839779006 %\n",
      "Team with max number of young players is : Kolkata Knight Riders \n",
      "\n",
      "SEASON  2011 :\n",
      "\n",
      "Total number of players: 199\n",
      "Total number of young players : 61\n",
      "Percentage of young players is :  30.65326633165829 %\n",
      "Team with max number of young players is : Pune Warriors \n",
      "\n",
      "SEASON  2012 :\n",
      "\n",
      "Total number of players: 190\n",
      "Total number of young players : 64\n",
      "Percentage of young players is :  33.68421052631579 %\n",
      "Team with max number of young players is : Delhi Daredevils \n",
      "\n",
      "SEASON  2013 :\n",
      "\n",
      "Total number of players: 197\n",
      "Total number of young players : 65\n",
      "Percentage of young players is :  32.99492385786802 %\n",
      "Team with max number of young players is : Pune Warriors \n",
      "\n",
      "SEASON  2014 :\n",
      "\n",
      "Total number of players: 152\n",
      "Total number of young players : 50\n",
      "Percentage of young players is :  32.89473684210527 %\n",
      "Team with max number of young players is : Rajasthan Royals \n",
      "\n",
      "SEASON  2015 :\n",
      "\n",
      "Total number of players: 145\n",
      "Total number of young players : 45\n",
      "Percentage of young players is :  31.03448275862069 %\n",
      "Team with max number of young players is : Kings XI Punjab \n",
      "\n",
      "SEASON  2016 :\n",
      "\n",
      "Total number of players: 159\n",
      "Total number of young players : 43\n",
      "Percentage of young players is :  27.044025157232703 %\n",
      "Team with max number of young players is : Delhi Daredevils \n",
      "\n",
      "SEASON  2017 :\n",
      "\n",
      "Total number of players: 161\n",
      "Total number of young players : 40\n",
      "Percentage of young players is :  24.84472049689441 %\n",
      "Team with max number of young players is : Gujarat Lions \n",
      "\n",
      "Percentage of young players won Man of the match is  24.722662440570524 %\n"
     ]
    }
   ],
   "source": [
    "#QUESTION 1\n",
    "#part a:\n",
    "teams_list=player_match['Player_team'].unique()\n",
    "for i in range(2008,2018):\n",
    "    print('SEASON ',i,':\\n')\n",
    "    a = player_match[(player_match.Age_As_on_match<=25)&(player_match.Season_year==i)]['Player_Name'].unique()\n",
    "    b=player_match[(player_match.Season_year==i)]['Player_Name'].unique()\n",
    "    print('Total number of players:',len(b))\n",
    "    print('Total number of young players :',len(a))\n",
    "    print('Percentage of young players is : ',(len(a)/len(b))*100,'%')\n",
    "    maxnum=0;\n",
    "    maxteam=0\n",
    "    for j in range(len(teams_list)):\n",
    "        nu=player_match[(player_match.Age_As_on_match<=25)&(player_match.Season_year==i)&(player_match.Player_team==teams_list[j])]['Player_Name'].unique()\n",
    "        num=len(nu)\n",
    "        \n",
    "        if num>maxnum:\n",
    "            maxnum=num\n",
    "            maxteam=j\n",
    "    print('Team with max number of young players is :',teams_list[maxteam],'\\n')\n",
    "    \n",
    "#part b:\n",
    "motm=player_match[player_match.is_manofThematch==1]\n",
    "motm_young=player_match[(player_match.is_manofThematch==1)&(player_match.Age_As_on_match<=25)]\n",
    "print(\"Percentage of young players won Man of the match is \",(len(motm_young)/len(motm))*100,'%')"
   ]
  },
  {
   "cell_type": "code",
   "execution_count": 250,
   "metadata": {},
   "outputs": [
    {
     "name": "stdout",
     "output_type": "stream",
     "text": [
      "Number of times a team having a Right handed player won is  632 \n",
      "\n",
      "Number of times a team having a Left handed player won is  610 \n",
      "\n",
      "Number of times a right handed player won Man of the Match 430 \n",
      "\n",
      "Number of times a left handed player won Man of the Match 199 \n",
      "\n"
     ]
    }
   ],
   "source": [
    "#QUESTION 2\n",
    "if len(player_match['Batting_hand'].value_counts())==5 :# So that if you run it multiple times it doesn't change the value\n",
    "    player_match['Batting_hand'] = player_match['Batting_hand'].map({'Right-hand bat':'Right-handed',\n",
    "                                                                 '\\xa0Right-hand bat':'Right-handed',\n",
    "                                                                'Left-hand bat' : 'Left-handed',\n",
    "                                                                '\\xa0Left-hand bat' : 'Left-handed'})  \n",
    "\n",
    "rb=player_match[(player_match.Batting_hand=='Right-handed')&(player_match.IsPlayers_Team_won==1)]['Match_Id'].unique()\n",
    "lb=player_match[(player_match.Batting_hand=='Left-handed')&(player_match.IsPlayers_Team_won==1)]['Match_Id'].unique()\n",
    "\n",
    "print('Number of times a team having a Right handed player won is ',len(rb),'\\n')\n",
    "print('Number of times a team having a Left handed player won is ',len(lb),'\\n')\n",
    "\n",
    "rbm=player_match[(player_match.Batting_hand=='Right-handed')&(player_match.is_manofThematch==1)]\n",
    "lbm=player_match[(player_match.Batting_hand=='Left-handed')&(player_match.is_manofThematch==1)]\n",
    "print('Number of times a right handed player won Man of the Match',len(rbm),'\\n')\n",
    "print('Number of times a left handed player won Man of the Match',len(lbm),'\\n')"
   ]
  },
  {
   "cell_type": "code",
   "execution_count": 251,
   "metadata": {},
   "outputs": [
    {
     "name": "stdout",
     "output_type": "stream",
     "text": [
      "BEST ELEVEN : \n",
      "\n",
      "YK Pathan         16\n",
      "AB de Villiers    15\n",
      "Name: Player_Name, dtype: int64\n",
      "CH Gayle     18\n",
      "DA Warner    15\n",
      "Name: Player_Name, dtype: int64\n",
      "MS Dhoni    13\n",
      "Name: Player_Name, dtype: int64\n",
      "SK Raina    14\n",
      "Name: Player_Name, dtype: int64\n",
      "AM Rahane     12\n",
      "MEK Hussey    12\n",
      "V Kohli       11\n",
      "Name: Player_Name, dtype: int64\n",
      "RG Sharma    14\n",
      "Name: Player_Name, dtype: int64\n",
      "G Gambhir    13\n",
      "Name: Player_Name, dtype: int64\n"
     ]
    }
   ],
   "source": [
    "#QUESTION 3\n",
    "print(\"BEST ELEVEN :\",'\\n')\n",
    "\n",
    "rpp=player_match[(player_match.Batting_hand=='Right-handed')&(player_match.is_manofThematch==1)]['Player_Name'].value_counts()\n",
    "print(rpp[0:2])\n",
    "lpp=player_match[(player_match.Batting_hand=='Left-handed')&(player_match.is_manofThematch==1)]['Player_Name'].value_counts()\n",
    "print(lpp[0:2])\n",
    "wk=player_match[((player_match.Player_Name)==(player_match.Player_keeper))&(player_match.is_manofThematch==1)]['Player_Name'].value_counts()\n",
    "print(wk[0:1])\n",
    "\n",
    "ar=player_match[(player_match.Bowling_skill!='Is Null value')&(player_match.is_manofThematch==1)]['Player_Name'].value_counts()\n",
    "print(ar[4:5])\n",
    "p=player_match[((player_match.Bowling_skill.str.contains('fast'))|(player_match.Bowling_skill.str.contains('medium')))&(player_match.is_manofThematch==1)]['Player_Name'].value_counts()\n",
    "print(p[2:5])\n",
    "pp=player_match[(((player_match.Bowling_skill.str.contains('fast')==False)& ((player_match.Bowling_skill.str.contains('medium')==False)))&(player_match.is_manofThematch==1))]['Player_Name'].value_counts()\n",
    "print(pp[3:4])\n",
    "print(pp[5:6])"
   ]
  },
  {
   "cell_type": "code",
   "execution_count": 252,
   "metadata": {},
   "outputs": [
    {
     "name": "stdout",
     "output_type": "stream",
     "text": [
      "Mumbai Indians  won  16  times vs  Kolkata Knight Riders \n",
      "\n"
     ]
    }
   ],
   "source": [
    "#QUESTION 4\n",
    "maxwon=0\n",
    "for i in range(0,len(teams_list)):\n",
    "    for j in range(0,len(teams_list)):\n",
    "        vs=player_match[(player_match.Player_team==teams_list[i])&(player_match.Opposit_Team==teams_list[j])&(player_match.IsPlayers_Team_won==1)]['Match_Id'].unique()\n",
    "        if len(vs)>maxwon:\n",
    "            maxwon=len(vs)\n",
    "            winteam=teams_list[i]\n",
    "            lteam=teams_list[j]\n",
    "\n",
    "print(winteam,' won ',maxwon,' times vs ',lteam,'\\n')"
   ]
  },
  {
   "cell_type": "code",
   "execution_count": null,
   "metadata": {},
   "outputs": [],
   "source": []
  },
  {
   "cell_type": "code",
   "execution_count": null,
   "metadata": {},
   "outputs": [],
   "source": []
  }
 ],
 "metadata": {
  "kernelspec": {
   "display_name": "Python 3",
   "language": "python",
   "name": "python3"
  },
  "language_info": {
   "codemirror_mode": {
    "name": "ipython",
    "version": 3
   },
   "file_extension": ".py",
   "mimetype": "text/x-python",
   "name": "python",
   "nbconvert_exporter": "python",
   "pygments_lexer": "ipython3",
   "version": "3.6.4"
  }
 },
 "nbformat": 4,
 "nbformat_minor": 2
}
