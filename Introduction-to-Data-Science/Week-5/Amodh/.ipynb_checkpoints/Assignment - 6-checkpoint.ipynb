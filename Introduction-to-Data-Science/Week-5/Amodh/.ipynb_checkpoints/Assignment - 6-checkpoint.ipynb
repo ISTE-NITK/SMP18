{
 "cells": [
  {
   "cell_type": "markdown",
   "metadata": {},
   "source": [
    "<h1> Question 1</h1>"
   ]
  },
  {
   "cell_type": "code",
   "execution_count": 2,
   "metadata": {},
   "outputs": [
    {
     "data": {
      "text/html": [
       "<div>\n",
       "<style>\n",
       "    .dataframe thead tr:only-child th {\n",
       "        text-align: right;\n",
       "    }\n",
       "\n",
       "    .dataframe thead th {\n",
       "        text-align: left;\n",
       "    }\n",
       "\n",
       "    .dataframe tbody tr th {\n",
       "        vertical-align: top;\n",
       "    }\n",
       "</style>\n",
       "<table border=\"1\" class=\"dataframe\">\n",
       "  <thead>\n",
       "    <tr style=\"text-align: right;\">\n",
       "      <th></th>\n",
       "      <th>2008</th>\n",
       "      <th>2009</th>\n",
       "      <th>2010</th>\n",
       "      <th>2011</th>\n",
       "      <th>2012</th>\n",
       "      <th>2013</th>\n",
       "      <th>2014</th>\n",
       "      <th>2015</th>\n",
       "      <th>2016</th>\n",
       "      <th>2017</th>\n",
       "    </tr>\n",
       "  </thead>\n",
       "  <tbody>\n",
       "    <tr>\n",
       "      <th>No. of young players</th>\n",
       "      <td>59</td>\n",
       "      <td>53</td>\n",
       "      <td>53</td>\n",
       "      <td>51</td>\n",
       "      <td>53</td>\n",
       "      <td>51</td>\n",
       "      <td>38</td>\n",
       "      <td>32</td>\n",
       "      <td>30</td>\n",
       "      <td>34</td>\n",
       "    </tr>\n",
       "    <tr>\n",
       "      <th>Total Players</th>\n",
       "      <td>163</td>\n",
       "      <td>165</td>\n",
       "      <td>181</td>\n",
       "      <td>199</td>\n",
       "      <td>190</td>\n",
       "      <td>197</td>\n",
       "      <td>152</td>\n",
       "      <td>145</td>\n",
       "      <td>159</td>\n",
       "      <td>161</td>\n",
       "    </tr>\n",
       "    <tr>\n",
       "      <th>Percentage of young Players</th>\n",
       "      <td>36.1963</td>\n",
       "      <td>32.1212</td>\n",
       "      <td>29.2818</td>\n",
       "      <td>25.6281</td>\n",
       "      <td>27.8947</td>\n",
       "      <td>25.8883</td>\n",
       "      <td>25</td>\n",
       "      <td>22.069</td>\n",
       "      <td>18.8679</td>\n",
       "      <td>21.118</td>\n",
       "    </tr>\n",
       "    <tr>\n",
       "      <th>Team with most Young Players</th>\n",
       "      <td>Delhi Daredevils</td>\n",
       "      <td>Deccan Chargers</td>\n",
       "      <td>Deccan Chargers</td>\n",
       "      <td>Royal Challengers Bangalore</td>\n",
       "      <td>Kings XI Punjab</td>\n",
       "      <td>Kings XI Punjab</td>\n",
       "      <td>Kings XI Punjab</td>\n",
       "      <td>Rajasthan Royals</td>\n",
       "      <td>Delhi Daredevils</td>\n",
       "      <td>Delhi Daredevils</td>\n",
       "    </tr>\n",
       "  </tbody>\n",
       "</table>\n",
       "</div>"
      ],
      "text/plain": [
       "                                          2008             2009  \\\n",
       "No. of young players                        59               53   \n",
       "Total Players                              163              165   \n",
       "Percentage of young Players            36.1963          32.1212   \n",
       "Team with most Young Players  Delhi Daredevils  Deccan Chargers   \n",
       "\n",
       "                                         2010                         2011  \\\n",
       "No. of young players                       53                           51   \n",
       "Total Players                             181                          199   \n",
       "Percentage of young Players           29.2818                      25.6281   \n",
       "Team with most Young Players  Deccan Chargers  Royal Challengers Bangalore   \n",
       "\n",
       "                                         2012             2013  \\\n",
       "No. of young players                       53               51   \n",
       "Total Players                             190              197   \n",
       "Percentage of young Players           27.8947          25.8883   \n",
       "Team with most Young Players  Kings XI Punjab  Kings XI Punjab   \n",
       "\n",
       "                                         2014              2015  \\\n",
       "No. of young players                       38                32   \n",
       "Total Players                             152               145   \n",
       "Percentage of young Players                25            22.069   \n",
       "Team with most Young Players  Kings XI Punjab  Rajasthan Royals   \n",
       "\n",
       "                                          2016              2017  \n",
       "No. of young players                        30                34  \n",
       "Total Players                              159               161  \n",
       "Percentage of young Players            18.8679            21.118  \n",
       "Team with most Young Players  Delhi Daredevils  Delhi Daredevils  "
      ]
     },
     "execution_count": 2,
     "metadata": {},
     "output_type": "execute_result"
    }
   ],
   "source": [
    "import numpy as np\n",
    "import pandas as pd\n",
    "pm = pd.read_csv('/home/amodh/smp/iste/7/DIM_PLAYER_MATCH.csv', delimiter = ',',skiprows = [1],encoding = 'ISO-8859-1')\n",
    "getYoung = lambda x : len(pm[(pm.Season_year==x)&(pm.Age_As_on_match<25)]['Player_Name'].unique())\n",
    "getTotal = lambda x: len(pm[(pm.Season_year==x)]['Player_Name'].unique())\n",
    "getTeam = lambda x : pm[(pm.Age_As_on_match<25)&(pm.Season_year==x)]['Player_team'].value_counts().index[0]\n",
    "yng = {}\n",
    "tot = {}\n",
    "tm = {}\n",
    "for i in range(2008,2018):\n",
    "    yng[i] = getYoung(i)\n",
    "    tot[i] = getTotal(i)\n",
    "    tm[i] = getTeam(i)\n",
    "perc = pd.Series(yng)/pd.Series(tot)*100\n",
    "ans = pd.DataFrame([yng,tot,perc,tm],index = ['No. of young players','Total Players','Percentage of young Players','Team with most Young Players'])\n",
    "ans"
   ]
  },
  {
   "cell_type": "code",
   "execution_count": 3,
   "metadata": {},
   "outputs": [
    {
     "name": "stdout",
     "output_type": "stream",
     "text": [
      "Percentage of Man of The Match awards gone to Young Players: 17.591125198098258\n"
     ]
    }
   ],
   "source": [
    "p = len(pm[(pm.Age_As_on_match<25)&(pm.is_manofThematch==1)])/len(pm[pm.is_manofThematch==1])*100\n",
    "print(\"Percentage of Man of The Match awards gone to Young Players:\",p)"
   ]
  },
  {
   "cell_type": "markdown",
   "metadata": {},
   "source": [
    "<h1>Question 2</h1> "
   ]
  },
  {
   "cell_type": "code",
   "execution_count": 9,
   "metadata": {},
   "outputs": [
    {
     "name": "stdout",
     "output_type": "stream",
     "text": [
      "699 292\n"
     ]
    }
   ],
   "source": [
    "pm = pd.read_csv('/home/amodh/smp/iste/7/DIM_PLAYER_MATCH.csv', delimiter = ',',skiprows = [1],encoding = 'ISO-8859-1')\n",
    "pm['Batting_hand'] = pm['Batting_hand'].map({'Right-hand bat':'Right',\n",
    "                                           'Left-hand bat':'Left',\n",
    "                                           '\\xa0Right-hand bat':'Right',\n",
    "                                           'Right-handed':'Right',\n",
    "                                           '\\xa0Left-hand bat':'Left'})\n",
    "pm['Bowling_skill'] = pm['Bowling_skill'].map({'Right-arm medium':'Right',\n",
    "                                              'Right-arm off break':'Right',\n",
    "                                              'Right-arm fast-medium':'Right',\n",
    "                                              'Right-arm medium-fast':'Right',\n",
    "                                              'Left-arm fast-medium':'Left',\n",
    "                                              'Slow left-arm orthodox':'Left',\n",
    "                                              'Slow left-arm chinaman':'Left',\n",
    "                                              'Left-arm medium-fast':'Left',\n",
    "                                              'Right-arm fast':'Right',\n",
    "                                              'Right-arm bowler':'Right',\n",
    "                                              'Left-arm medium':'Left',\n",
    "                                              'Left-arm fast':'Left',\n",
    "                                              'Right-arm medium fast':'Right',\n",
    "                                              '\\xa0Right-arm fast-medium':'Right',\n",
    "                                              '\\xa0Right-arm medium-fast':'Right',\n",
    "                                              '\\xa0Left-arm fast':'Left',\n",
    "                                              '\\xa0Right-arm offbreak':'Right'})\n",
    "\n",
    "batRight = pm[(pm.Batting_hand=='Right')&(pm.is_manofThematch==1)]\n",
    "\n",
    "bowlRight = pm[(pm.Bowling_skill=='Right')&(pm.is_manofThematch==1)]\n",
    "\n",
    "batLeft = pm[(pm.Batting_hand=='Left')&(pm.is_manofThematch==1)]\n",
    "\n",
    "bowlLeft = pm[(pm.Bowling_skill=='Left')&(pm.is_manofThematch==1)]\n",
    "\n",
    "right = len(pd.concat([batRight,bowlRight]))\n",
    "\n",
    "left = len(pd.concat([batLeft,bowlLeft]))\n",
    "\n",
    "print(right,left)"
   ]
  },
  {
   "cell_type": "markdown",
   "metadata": {},
   "source": [
    "**Since right handed players have won more number of Man of the Match awards, clearly their performance is better**"
   ]
  },
  {
   "cell_type": "code",
   "execution_count": 11,
   "metadata": {},
   "outputs": [
    {
     "name": "stdout",
     "output_type": "stream",
     "text": [
      "305 305\n"
     ]
    }
   ],
   "source": [
    "pm = pd.read_csv('/home/amodh/smp/iste/7/DIM_PLAYER_MATCH.csv', delimiter = ',',skiprows = [1],encoding = 'ISO-8859-1')\n",
    "\n",
    "pm['Bowling_skill'] = pm['Bowling_skill'].map({'Right-arm offbreak':'Spin',\n",
    "                                              'Right-arm medium':'Pace',\n",
    "                                              'Right-arm fast-medium':'Pace',\n",
    "                                              'Legbreak googly':'Spin',\n",
    "                                              'Right-arm medium-fast':'Pace',\n",
    "                                              'Left-arm fast-medium':'Pace',\n",
    "                                              'Slow left-arm orthodox':'Spin',\n",
    "                                              'Right-arm fast':'Pace',\n",
    "                                              'Slow left-arm chinaman':'Spin',\n",
    "                                              'Left-arm medium-fast':'Pace',\n",
    "                                              'Legbreak':'Spin',\n",
    "                                               'Left-arm medium':'Pace',\n",
    "                                               'Left-arm fast':'Pace',\n",
    "                                               '\\xa0Left-arm fast':'Pace',\n",
    "                                               '\\xa0Right-arm fast-medium':'Pace',\n",
    "                                               'Right-arm medium fast':'Pace',\n",
    "                                               '\\xa0Right-arm medium-fast':'Pace',\n",
    "                                               '\\xa0Right-arm offbreak':'Spin',\n",
    "                                               '\\xa0Legbreak':'Spin'\n",
    "                                              })\n",
    "\n",
    "pace = len(pm[(pm.Bowling_skill=='Pace')&(pm.is_manofThematch==1)])\n",
    "spin = len(pm[(pm.Bowling_skill=='Pace')&(pm.is_manofThematch==1)])\n",
    "\n",
    "print(pace,spin)"
   ]
  },
  {
   "cell_type": "markdown",
   "metadata": {},
   "source": [
    "**Since an equal number of pacers and spinners have won Man of the Match awards, their performance is equally good**"
   ]
  },
  {
   "cell_type": "markdown",
   "metadata": {},
   "source": [
    "<h1>Question 3</h1>"
   ]
  },
  {
   "cell_type": "code",
   "execution_count": 12,
   "metadata": {},
   "outputs": [
    {
     "data": {
      "text/plain": [
       "Index(['KD Karthik', 'WP Saha'], dtype='object')"
      ]
     },
     "execution_count": 12,
     "metadata": {},
     "output_type": "execute_result"
    }
   ],
   "source": [
    "pm = pd.read_csv('/home/amodh/smp/iste/7/DIM_PLAYER_MATCH.csv', delimiter = ',',skiprows = [1],encoding = 'ISO-8859-1')\n",
    "pm['Batting_hand'] = pm['Batting_hand'].map({'Right-hand bat':'Right',\n",
    "                                           'Left-hand bat':'Left',\n",
    "                                           '\\xa0Right-hand bat':'Right',\n",
    "                                           'Right-handed':'Right',\n",
    "                                           '\\xa0Left-hand bat':'Left'})\n",
    "\n",
    "pm['Bowling_skill'] = pm['Bowling_skill'].map({'Right-arm offbreak':'Spin',\n",
    "                                              'Right-arm medium':'Pace',\n",
    "                                              'Right-arm fast-medium':'Pace',\n",
    "                                              'Legbreak googly':'Spin',\n",
    "                                              'Right-arm medium-fast':'Pace',\n",
    "                                              'Left-arm fast-medium':'Pace',\n",
    "                                              'Slow left-arm orthodox':'Spin',\n",
    "                                              'Right-arm fast':'Pace',\n",
    "                                              'Slow left-arm chinaman':'Spin',\n",
    "                                              'Left-arm medium-fast':'Pace',\n",
    "                                              'Legbreak':'Spin',\n",
    "                                               'Left-arm medium':'Pace',\n",
    "                                               'Left-arm fast':'Pace',\n",
    "                                               '\\xa0Left-arm fast':'Pace',\n",
    "                                               '\\xa0Right-arm fast-medium':'Pace',\n",
    "                                               'Right-arm medium fast':'Pace',\n",
    "                                               '\\xa0Right-arm medium-fast':'Pace',\n",
    "                                               '\\xa0Right-arm offbreak':'Spin',\n",
    "                                               '\\xa0Legbreak':'Spin'\n",
    "                                              })\n",
    "\n",
    "pm['Role_Desc'] = pm['Role_Desc'].map({'Keeper':\"Keeper\",\n",
    "                                      'CaptainKeeper':'Keeper'})\n",
    "\n",
    "rightBat = pm[(pm.Batting_hand=='Right') & (pm.is_manofThematch==1)&(pm.Bowling_skill.isnull())]['Player_Name'].value_counts().index[:2]\n",
    "\n",
    "rightBat"
   ]
  },
  {
   "cell_type": "code",
   "execution_count": 13,
   "metadata": {},
   "outputs": [
    {
     "data": {
      "text/plain": [
       "Index(['PA Patel', 'RR Pant'], dtype='object')"
      ]
     },
     "execution_count": 13,
     "metadata": {},
     "output_type": "execute_result"
    }
   ],
   "source": [
    "leftBat = pm[(pm.Batting_hand=='Left')&(pm.is_manofThematch==1)&(pm.Bowling_skill.isnull())]['Player_Name'].value_counts().index[:2]\n",
    "\n",
    "leftBat"
   ]
  },
  {
   "cell_type": "code",
   "execution_count": 14,
   "metadata": {},
   "outputs": [
    {
     "data": {
      "text/plain": [
       "'MS Dhoni'"
      ]
     },
     "execution_count": 14,
     "metadata": {},
     "output_type": "execute_result"
    }
   ],
   "source": [
    "wickeeper = pm[(pm.Role_Desc=='Keeper')&(pm.IsPlayers_Team_won==1)]['Player_Name'].value_counts().index[0]\n",
    "\n",
    "wickeeper"
   ]
  },
  {
   "cell_type": "code",
   "execution_count": 15,
   "metadata": {},
   "outputs": [
    {
     "data": {
      "text/plain": [
       "Index(['CH Gayle', 'YK Pathan'], dtype='object')"
      ]
     },
     "execution_count": 15,
     "metadata": {},
     "output_type": "execute_result"
    }
   ],
   "source": [
    "spin = pm[(pm.Bowling_skill=='Spin')&(pm.is_manofThematch==1)]['Player_Name'].value_counts().index[:2]\n",
    "\n",
    "spin"
   ]
  },
  {
   "cell_type": "code",
   "execution_count": 16,
   "metadata": {},
   "outputs": [
    {
     "data": {
      "text/plain": [
       "Index(['AB de Villiers', 'MS Dhoni', 'AM Rahane', 'MEK Hussey'], dtype='object')"
      ]
     },
     "execution_count": 16,
     "metadata": {},
     "output_type": "execute_result"
    }
   ],
   "source": [
    "pace = pm[(pm.Bowling_skill=='Pace')&(pm.is_manofThematch==1)]['Player_Name'].value_counts().index[:4]\n",
    "\n",
    "pace"
   ]
  },
  {
   "cell_type": "code",
   "execution_count": 17,
   "metadata": {},
   "outputs": [
    {
     "data": {
      "text/plain": [
       "Index(['CH Gayle', 'YK Pathan', 'AB de Villiers', 'DA Warner'], dtype='object')"
      ]
     },
     "execution_count": 17,
     "metadata": {},
     "output_type": "execute_result"
    }
   ],
   "source": [
    "pace = pace[[0,2,3]]\n",
    "\n",
    "allRound = pm[(pm.Bowling_skill.notnull())&(pm.is_manofThematch==1)]['Player_Name'].value_counts().index[:4]\n",
    "\n",
    "allRound"
   ]
  },
  {
   "cell_type": "code",
   "execution_count": 18,
   "metadata": {},
   "outputs": [
    {
     "data": {
      "text/plain": [
       "'AB de Villiers'"
      ]
     },
     "execution_count": 18,
     "metadata": {},
     "output_type": "execute_result"
    }
   ],
   "source": [
    "allRound = allRound[2]\n",
    "\n",
    "allRound"
   ]
  },
  {
   "cell_type": "code",
   "execution_count": 19,
   "metadata": {},
   "outputs": [
    {
     "data": {
      "text/html": [
       "<div>\n",
       "<style>\n",
       "    .dataframe thead tr:only-child th {\n",
       "        text-align: right;\n",
       "    }\n",
       "\n",
       "    .dataframe thead th {\n",
       "        text-align: left;\n",
       "    }\n",
       "\n",
       "    .dataframe tbody tr th {\n",
       "        vertical-align: top;\n",
       "    }\n",
       "</style>\n",
       "<table border=\"1\" class=\"dataframe\">\n",
       "  <thead>\n",
       "    <tr style=\"text-align: right;\">\n",
       "      <th></th>\n",
       "      <th>Player_name</th>\n",
       "      <th>Role</th>\n",
       "    </tr>\n",
       "  </thead>\n",
       "  <tbody>\n",
       "    <tr>\n",
       "      <th>0</th>\n",
       "      <td>KD Karthik</td>\n",
       "      <td>Right-hand Batsman</td>\n",
       "    </tr>\n",
       "    <tr>\n",
       "      <th>1</th>\n",
       "      <td>WP Saha</td>\n",
       "      <td>Right-hand Batsman</td>\n",
       "    </tr>\n",
       "    <tr>\n",
       "      <th>2</th>\n",
       "      <td>PA Patel</td>\n",
       "      <td>Left-hand batsman</td>\n",
       "    </tr>\n",
       "    <tr>\n",
       "      <th>3</th>\n",
       "      <td>RR Pant</td>\n",
       "      <td>Left-hand batsman</td>\n",
       "    </tr>\n",
       "    <tr>\n",
       "      <th>4</th>\n",
       "      <td>AB de Villiers</td>\n",
       "      <td>All-Rounder</td>\n",
       "    </tr>\n",
       "    <tr>\n",
       "      <th>5</th>\n",
       "      <td>AB de Villiers</td>\n",
       "      <td>Pacer</td>\n",
       "    </tr>\n",
       "    <tr>\n",
       "      <th>6</th>\n",
       "      <td>AM Rahane</td>\n",
       "      <td>Pacer</td>\n",
       "    </tr>\n",
       "    <tr>\n",
       "      <th>7</th>\n",
       "      <td>MEK Hussey</td>\n",
       "      <td>Pacer</td>\n",
       "    </tr>\n",
       "    <tr>\n",
       "      <th>8</th>\n",
       "      <td>CH Gayle</td>\n",
       "      <td>Spinner</td>\n",
       "    </tr>\n",
       "    <tr>\n",
       "      <th>9</th>\n",
       "      <td>YK Pathan</td>\n",
       "      <td>Spinner</td>\n",
       "    </tr>\n",
       "    <tr>\n",
       "      <th>10</th>\n",
       "      <td>MS Dhoni</td>\n",
       "      <td>Wicket-keeper</td>\n",
       "    </tr>\n",
       "  </tbody>\n",
       "</table>\n",
       "</div>"
      ],
      "text/plain": [
       "       Player_name                Role\n",
       "0       KD Karthik  Right-hand Batsman\n",
       "1          WP Saha  Right-hand Batsman\n",
       "2         PA Patel   Left-hand batsman\n",
       "3          RR Pant   Left-hand batsman\n",
       "4   AB de Villiers         All-Rounder\n",
       "5   AB de Villiers               Pacer\n",
       "6        AM Rahane               Pacer\n",
       "7       MEK Hussey               Pacer\n",
       "8         CH Gayle             Spinner\n",
       "9        YK Pathan             Spinner\n",
       "10        MS Dhoni       Wicket-keeper"
      ]
     },
     "execution_count": 19,
     "metadata": {},
     "output_type": "execute_result"
    }
   ],
   "source": [
    "Team = pd.DataFrame({'Player_name' : [*rightBat,*leftBat,allRound,*pace,*spin,wickeeper],\n",
    "                    'Role':['Right-hand Batsman','Right-hand Batsman','Left-hand batsman','Left-hand batsman','All-Rounder','Pacer','Pacer','Pacer','Spinner','Spinner','Wicket-keeper']})\n",
    "\n",
    "Team"
   ]
  },
  {
   "cell_type": "markdown",
   "metadata": {},
   "source": [
    "**Above is the Strongest Team created according to mentioned requirements**"
   ]
  },
  {
   "cell_type": "markdown",
   "metadata": {},
   "source": [
    "<h1>Question 4</h1>"
   ]
  },
  {
   "cell_type": "code",
   "execution_count": 22,
   "metadata": {},
   "outputs": [
    {
     "data": {
      "text/plain": [
       "Losing Team           Kolkata Knight Riders\n",
       "Times lost against                       16\n",
       "Name: Mumbai Indians, dtype: object"
      ]
     },
     "execution_count": 22,
     "metadata": {},
     "output_type": "execute_result"
    }
   ],
   "source": [
    "pm = pd.read_csv('/home/amodh/smp/iste/7/DIM_PLAYER_MATCH.csv', delimiter = ',',skiprows = [1],encoding = 'ISO-8859-1')\n",
    "pm['Player_team'] = pm['Player_team'].map({'Mumbai Indians':'Mumbai Indians',\n",
    "                                          'Royal Challengers Bangalore':'Royal Challengers Bangalore',\n",
    "                                          'Kolkata Knight Riders':'Kolkata Knight Riders',\n",
    "                                          'Delhi Daredevils':'Delhi Daredevils',\n",
    "                                          'Kings XI Punjab':'Kings XI Punjab',\n",
    "                                          'Chennai Super Kings':'Chennai Super Kings',\n",
    "                                          'Rajasthan Royals':'Rajasthan Royals',\n",
    "                                          'Deccan Chargers':'Deccan Chargers',\n",
    "                                          'Sunrisers Hyderabad':'Sunrisers Hyderabad',\n",
    "                                          'Pune Warriors':'Pune Warriors',\n",
    "                                          'Gujarat Lions':'Gujarat Lions',\n",
    "                                          'Rising Pune Supergiants':'Rising Pune Supergiants',\n",
    "                                          'Kochi Tuskers Kerala':'Kochi Tuskers Kerala',\n",
    "                                          'kings XI Punjab':'Kings XI Punjab',\n",
    "                                          'sunrisers Hyderabad':'Sunrisers Hyderabad'})\n",
    "\n",
    "teams = pm['Player_team'].unique()\n",
    "\n",
    "dt = {}\n",
    "for i in teams:\n",
    "    d = {}\n",
    "    for j in teams:\n",
    "        if i is not j:\n",
    "            d[j] = len(pm[(pm.Player_team==i)&(pm.Opposit_Team==j)&(pm.IsPlayers_Team_won==1)]['Match_Id'].unique())\n",
    "    s = pd.Series(d)\n",
    "    s = s.sort_values(ascending = False)\n",
    "    dt[i] = [s.index[0],s[0]]\n",
    "Ans = pd.DataFrame(dt,index = ['Losing Team','Times lost against']).sort_values(axis = 1,by = ['Times lost against'],ascending = False)\n",
    "Ans[Ans.columns[0]]"
   ]
  },
  {
   "cell_type": "markdown",
   "metadata": {},
   "source": [
    "**We can see that throughout the IPL, Mumbai Indians has won the maximum against a particular team, i.e., Kolkata Knight Riders. They have won 16 times against them.**"
   ]
  }
 ],
 "metadata": {
  "kernelspec": {
   "display_name": "Python 3",
   "language": "python",
   "name": "python3"
  },
  "language_info": {
   "codemirror_mode": {
    "name": "ipython",
    "version": 3
   },
   "file_extension": ".py",
   "mimetype": "text/x-python",
   "name": "python",
   "nbconvert_exporter": "python",
   "pygments_lexer": "ipython3",
   "version": "3.6.3"
  }
 },
 "nbformat": 4,
 "nbformat_minor": 2
}
