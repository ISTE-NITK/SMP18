{
  "nbformat": 4,
  "nbformat_minor": 0,
  "metadata": {
    "colab": {
      "name": "Untitled5.ipynb",
      "version": "0.3.2",
      "views": {},
      "default_view": {},
      "provenance": []
    },
    "kernelspec": {
      "name": "python3",
      "display_name": "Python 3"
    }
  },
  "cells": [
    {
      "metadata": {
        "id": "sZAX4js804mc",
        "colab_type": "code",
        "colab": {
          "autoexec": {
            "startup": false,
            "wait_interval": 0
          },
          "base_uri": "https://localhost:8080/",
          "height": 71
        },
        "outputId": "3adf02fb-c5b7-4558-eb11-fd8cadd619f1",
        "executionInfo": {
          "status": "ok",
          "timestamp": 1529846063787,
          "user_tz": -330,
          "elapsed": 1223,
          "user": {
            "displayName": "sahith sunku",
            "photoUrl": "https://lh3.googleusercontent.com/a/default-user=s128",
            "userId": "102608795286611922387"
          }
        }
      },
      "cell_type": "code",
      "source": [
        "import numpy as np\n",
        "import pandas as pd\n",
        "from sklearn import preprocessing\n",
        "import matplotlib.pyplot as plt\n",
        "from sklearn.linear_model import LogisticRegression\n",
        "from sklearn.neural_network import MLPClassifier\n",
        "from sklearn.gaussian_process import GaussianProcessClassifier\n",
        "from sklearn.neighbors import KNeighborsClassifier\n",
        "from sklearn.tree import DecisionTreeClassifier\n",
        "from sklearn.ensemble import RandomForestClassifier, AdaBoostClassifier\n",
        "from sklearn.linear_model import LogisticRegressionCV\n",
        "from sklearn.svm import SVC\n",
        "from sklearn.cross_validation import train_test_split\n",
        "import seaborn as sns\n",
        "sns.set(style = \"white\")\n",
        "sns.set(style = \"whitegrid\", color_codes = True)"
      ],
      "execution_count": 2,
      "outputs": [
        {
          "output_type": "stream",
          "text": [
            "/usr/local/lib/python3.6/dist-packages/sklearn/cross_validation.py:41: DeprecationWarning: This module was deprecated in version 0.18 in favor of the model_selection module into which all the refactored classes and functions are moved. Also note that the interface of the new CV iterators are different from that of this module. This module will be removed in 0.20.\n",
            "  \"This module will be removed in 0.20.\", DeprecationWarning)\n"
          ],
          "name": "stderr"
        }
      ]
    },
    {
      "metadata": {
        "id": "JRL_fv3w5zhd",
        "colab_type": "code",
        "colab": {
          "autoexec": {
            "startup": false,
            "wait_interval": 0
          }
        }
      },
      "cell_type": "code",
      "source": [
        "from sklearn import datasets\n",
        "cancer = datasets.load_breast_cancer()"
      ],
      "execution_count": 0,
      "outputs": []
    },
    {
      "metadata": {
        "id": "AK8gwDAu6y9E",
        "colab_type": "code",
        "colab": {
          "autoexec": {
            "startup": false,
            "wait_interval": 0
          },
          "base_uri": "https://localhost:8080/",
          "height": 34
        },
        "outputId": "7d32b39f-3151-4e05-a8f2-6b0fd5df5fe3",
        "executionInfo": {
          "status": "ok",
          "timestamp": 1529644879239,
          "user_tz": -330,
          "elapsed": 1198,
          "user": {
            "displayName": "sahith sunku",
            "photoUrl": "https://lh3.googleusercontent.com/a/default-user=s128",
            "userId": "102608795286611922387"
          }
        }
      },
      "cell_type": "code",
      "source": [
        "print(cancer.keys())"
      ],
      "execution_count": 8,
      "outputs": [
        {
          "output_type": "stream",
          "text": [
            "dict_keys(['data', 'target', 'target_names', 'DESCR', 'feature_names'])\n"
          ],
          "name": "stdout"
        }
      ]
    },
    {
      "metadata": {
        "id": "qZzQM8_x7WyH",
        "colab_type": "code",
        "colab": {
          "autoexec": {
            "startup": false,
            "wait_interval": 0
          }
        }
      },
      "cell_type": "code",
      "source": [
        "data = pd.DataFrame(cancer.data)\n",
        "data.columns = cancer.feature_names"
      ],
      "execution_count": 0,
      "outputs": []
    },
    {
      "metadata": {
        "id": "q7AySFXd8a1l",
        "colab_type": "code",
        "colab": {
          "autoexec": {
            "startup": false,
            "wait_interval": 0
          },
          "base_uri": "https://localhost:8080/",
          "height": 1224
        },
        "outputId": "9689c147-bc3f-459c-ef24-7de4d574beae",
        "executionInfo": {
          "status": "ok",
          "timestamp": 1529847029853,
          "user_tz": -330,
          "elapsed": 1073,
          "user": {
            "displayName": "sahith sunku",
            "photoUrl": "https://lh3.googleusercontent.com/a/default-user=s128",
            "userId": "102608795286611922387"
          }
        }
      },
      "cell_type": "code",
      "source": [
        "print(data.describe())\n",
        "print(data.columns)"
      ],
      "execution_count": 18,
      "outputs": [
        {
          "output_type": "stream",
          "text": [
            "       mean radius  mean texture  mean perimeter    mean area  \\\n",
            "count   569.000000    569.000000      569.000000   569.000000   \n",
            "mean     14.127292     19.289649       91.969033   654.889104   \n",
            "std       3.524049      4.301036       24.298981   351.914129   \n",
            "min       6.981000      9.710000       43.790000   143.500000   \n",
            "25%      11.700000     16.170000       75.170000   420.300000   \n",
            "50%      13.370000     18.840000       86.240000   551.100000   \n",
            "75%      15.780000     21.800000      104.100000   782.700000   \n",
            "max      28.110000     39.280000      188.500000  2501.000000   \n",
            "\n",
            "       mean smoothness  mean compactness  mean concavity  mean concave points  \\\n",
            "count       569.000000        569.000000      569.000000           569.000000   \n",
            "mean          0.096360          0.104341        0.088799             0.048919   \n",
            "std           0.014064          0.052813        0.079720             0.038803   \n",
            "min           0.052630          0.019380        0.000000             0.000000   \n",
            "25%           0.086370          0.064920        0.029560             0.020310   \n",
            "50%           0.095870          0.092630        0.061540             0.033500   \n",
            "75%           0.105300          0.130400        0.130700             0.074000   \n",
            "max           0.163400          0.345400        0.426800             0.201200   \n",
            "\n",
            "       mean symmetry  mean fractal dimension           ...             \\\n",
            "count     569.000000              569.000000           ...              \n",
            "mean        0.181162                0.062798           ...              \n",
            "std         0.027414                0.007060           ...              \n",
            "min         0.106000                0.049960           ...              \n",
            "25%         0.161900                0.057700           ...              \n",
            "50%         0.179200                0.061540           ...              \n",
            "75%         0.195700                0.066120           ...              \n",
            "max         0.304000                0.097440           ...              \n",
            "\n",
            "       worst radius  worst texture  worst perimeter   worst area  \\\n",
            "count    569.000000     569.000000       569.000000   569.000000   \n",
            "mean      16.269190      25.677223       107.261213   880.583128   \n",
            "std        4.833242       6.146258        33.602542   569.356993   \n",
            "min        7.930000      12.020000        50.410000   185.200000   \n",
            "25%       13.010000      21.080000        84.110000   515.300000   \n",
            "50%       14.970000      25.410000        97.660000   686.500000   \n",
            "75%       18.790000      29.720000       125.400000  1084.000000   \n",
            "max       36.040000      49.540000       251.200000  4254.000000   \n",
            "\n",
            "       worst smoothness  worst compactness  worst concavity  \\\n",
            "count        569.000000         569.000000       569.000000   \n",
            "mean           0.132369           0.254265         0.272188   \n",
            "std            0.022832           0.157336         0.208624   \n",
            "min            0.071170           0.027290         0.000000   \n",
            "25%            0.116600           0.147200         0.114500   \n",
            "50%            0.131300           0.211900         0.226700   \n",
            "75%            0.146000           0.339100         0.382900   \n",
            "max            0.222600           1.058000         1.252000   \n",
            "\n",
            "       worst concave points  worst symmetry  worst fractal dimension  \n",
            "count            569.000000      569.000000               569.000000  \n",
            "mean               0.114606        0.290076                 0.083946  \n",
            "std                0.065732        0.061867                 0.018061  \n",
            "min                0.000000        0.156500                 0.055040  \n",
            "25%                0.064930        0.250400                 0.071460  \n",
            "50%                0.099930        0.282200                 0.080040  \n",
            "75%                0.161400        0.317900                 0.092080  \n",
            "max                0.291000        0.663800                 0.207500  \n",
            "\n",
            "[8 rows x 30 columns]\n",
            "Index(['mean radius', 'mean texture', 'mean perimeter', 'mean area',\n",
            "       'mean smoothness', 'mean compactness', 'mean concavity',\n",
            "       'mean concave points', 'mean symmetry', 'mean fractal dimension',\n",
            "       'radius error', 'texture error', 'perimeter error', 'area error',\n",
            "       'smoothness error', 'compactness error', 'concavity error',\n",
            "       'concave points error', 'symmetry error', 'fractal dimension error',\n",
            "       'worst radius', 'worst texture', 'worst perimeter', 'worst area',\n",
            "       'worst smoothness', 'worst compactness', 'worst concavity',\n",
            "       'worst concave points', 'worst symmetry', 'worst fractal dimension'],\n",
            "      dtype='object')\n"
          ],
          "name": "stdout"
        }
      ]
    },
    {
      "metadata": {
        "id": "hmC2Fy988eBC",
        "colab_type": "code",
        "colab": {
          "autoexec": {
            "startup": false,
            "wait_interval": 0
          },
          "base_uri": "https://localhost:8080/",
          "height": 1071
        },
        "outputId": "7846f911-0c3c-4242-9391-f1db67ba4e41",
        "executionInfo": {
          "status": "ok",
          "timestamp": 1529847039158,
          "user_tz": -330,
          "elapsed": 1255,
          "user": {
            "displayName": "sahith sunku",
            "photoUrl": "https://lh3.googleusercontent.com/a/default-user=s128",
            "userId": "102608795286611922387"
          }
        }
      },
      "cell_type": "code",
      "source": [
        "data['Cancer_type'] = cancer.target\n",
        "print(data.describe())\n",
        "print(len(data.columns))"
      ],
      "execution_count": 19,
      "outputs": [
        {
          "output_type": "stream",
          "text": [
            "       mean radius  mean texture  mean perimeter    mean area  \\\n",
            "count   569.000000    569.000000      569.000000   569.000000   \n",
            "mean     14.127292     19.289649       91.969033   654.889104   \n",
            "std       3.524049      4.301036       24.298981   351.914129   \n",
            "min       6.981000      9.710000       43.790000   143.500000   \n",
            "25%      11.700000     16.170000       75.170000   420.300000   \n",
            "50%      13.370000     18.840000       86.240000   551.100000   \n",
            "75%      15.780000     21.800000      104.100000   782.700000   \n",
            "max      28.110000     39.280000      188.500000  2501.000000   \n",
            "\n",
            "       mean smoothness  mean compactness  mean concavity  mean concave points  \\\n",
            "count       569.000000        569.000000      569.000000           569.000000   \n",
            "mean          0.096360          0.104341        0.088799             0.048919   \n",
            "std           0.014064          0.052813        0.079720             0.038803   \n",
            "min           0.052630          0.019380        0.000000             0.000000   \n",
            "25%           0.086370          0.064920        0.029560             0.020310   \n",
            "50%           0.095870          0.092630        0.061540             0.033500   \n",
            "75%           0.105300          0.130400        0.130700             0.074000   \n",
            "max           0.163400          0.345400        0.426800             0.201200   \n",
            "\n",
            "       mean symmetry  mean fractal dimension     ...       worst texture  \\\n",
            "count     569.000000              569.000000     ...          569.000000   \n",
            "mean        0.181162                0.062798     ...           25.677223   \n",
            "std         0.027414                0.007060     ...            6.146258   \n",
            "min         0.106000                0.049960     ...           12.020000   \n",
            "25%         0.161900                0.057700     ...           21.080000   \n",
            "50%         0.179200                0.061540     ...           25.410000   \n",
            "75%         0.195700                0.066120     ...           29.720000   \n",
            "max         0.304000                0.097440     ...           49.540000   \n",
            "\n",
            "       worst perimeter   worst area  worst smoothness  worst compactness  \\\n",
            "count       569.000000   569.000000        569.000000         569.000000   \n",
            "mean        107.261213   880.583128          0.132369           0.254265   \n",
            "std          33.602542   569.356993          0.022832           0.157336   \n",
            "min          50.410000   185.200000          0.071170           0.027290   \n",
            "25%          84.110000   515.300000          0.116600           0.147200   \n",
            "50%          97.660000   686.500000          0.131300           0.211900   \n",
            "75%         125.400000  1084.000000          0.146000           0.339100   \n",
            "max         251.200000  4254.000000          0.222600           1.058000   \n",
            "\n",
            "       worst concavity  worst concave points  worst symmetry  \\\n",
            "count       569.000000            569.000000      569.000000   \n",
            "mean          0.272188              0.114606        0.290076   \n",
            "std           0.208624              0.065732        0.061867   \n",
            "min           0.000000              0.000000        0.156500   \n",
            "25%           0.114500              0.064930        0.250400   \n",
            "50%           0.226700              0.099930        0.282200   \n",
            "75%           0.382900              0.161400        0.317900   \n",
            "max           1.252000              0.291000        0.663800   \n",
            "\n",
            "       worst fractal dimension  Cancer_type  \n",
            "count               569.000000   569.000000  \n",
            "mean                  0.083946     0.627417  \n",
            "std                   0.018061     0.483918  \n",
            "min                   0.055040     0.000000  \n",
            "25%                   0.071460     0.000000  \n",
            "50%                   0.080040     1.000000  \n",
            "75%                   0.092080     1.000000  \n",
            "max                   0.207500     1.000000  \n",
            "\n",
            "[8 rows x 31 columns]\n",
            "31\n"
          ],
          "name": "stdout"
        }
      ]
    },
    {
      "metadata": {
        "id": "25KGh1mY9JIN",
        "colab_type": "text"
      },
      "cell_type": "markdown",
      "source": [
        "I feel all the data is necessary and nothing can be dropped.The accuracy was more without dropping any columns."
      ]
    },
    {
      "metadata": {
        "id": "uxzk5Yer-1Ru",
        "colab_type": "code",
        "colab": {
          "autoexec": {
            "startup": false,
            "wait_interval": 0
          },
          "base_uri": "https://localhost:8080/",
          "height": 731
        },
        "outputId": "d508e324-494f-4502-97c1-277d5e82fab5",
        "executionInfo": {
          "status": "ok",
          "timestamp": 1529847046534,
          "user_tz": -330,
          "elapsed": 1807,
          "user": {
            "displayName": "sahith sunku",
            "photoUrl": "https://lh3.googleusercontent.com/a/default-user=s128",
            "userId": "102608795286611922387"
          }
        }
      },
      "cell_type": "code",
      "source": [
        "x = data.iloc[:,0:29]\n",
        "y = data.iloc[:,30]\n",
        "print(x.head())\n",
        "print(y.head())\n",
        "x_train, x_test, y_train, y_test = train_test_split(x, y, random_state=0)\n"
      ],
      "execution_count": 20,
      "outputs": [
        {
          "output_type": "stream",
          "text": [
            "   mean radius  mean texture  mean perimeter  mean area  mean smoothness  \\\n",
            "0        17.99         10.38          122.80     1001.0          0.11840   \n",
            "1        20.57         17.77          132.90     1326.0          0.08474   \n",
            "2        19.69         21.25          130.00     1203.0          0.10960   \n",
            "3        11.42         20.38           77.58      386.1          0.14250   \n",
            "4        20.29         14.34          135.10     1297.0          0.10030   \n",
            "\n",
            "   mean compactness  mean concavity  mean concave points  mean symmetry  \\\n",
            "0           0.27760          0.3001              0.14710         0.2419   \n",
            "1           0.07864          0.0869              0.07017         0.1812   \n",
            "2           0.15990          0.1974              0.12790         0.2069   \n",
            "3           0.28390          0.2414              0.10520         0.2597   \n",
            "4           0.13280          0.1980              0.10430         0.1809   \n",
            "\n",
            "   mean fractal dimension       ...        fractal dimension error  \\\n",
            "0                 0.07871       ...                       0.006193   \n",
            "1                 0.05667       ...                       0.003532   \n",
            "2                 0.05999       ...                       0.004571   \n",
            "3                 0.09744       ...                       0.009208   \n",
            "4                 0.05883       ...                       0.005115   \n",
            "\n",
            "   worst radius  worst texture  worst perimeter  worst area  worst smoothness  \\\n",
            "0         25.38          17.33           184.60      2019.0            0.1622   \n",
            "1         24.99          23.41           158.80      1956.0            0.1238   \n",
            "2         23.57          25.53           152.50      1709.0            0.1444   \n",
            "3         14.91          26.50            98.87       567.7            0.2098   \n",
            "4         22.54          16.67           152.20      1575.0            0.1374   \n",
            "\n",
            "   worst compactness  worst concavity  worst concave points  worst symmetry  \n",
            "0             0.6656           0.7119                0.2654          0.4601  \n",
            "1             0.1866           0.2416                0.1860          0.2750  \n",
            "2             0.4245           0.4504                0.2430          0.3613  \n",
            "3             0.8663           0.6869                0.2575          0.6638  \n",
            "4             0.2050           0.4000                0.1625          0.2364  \n",
            "\n",
            "[5 rows x 29 columns]\n",
            "0    0\n",
            "1    0\n",
            "2    0\n",
            "3    0\n",
            "4    0\n",
            "Name: Cancer_type, dtype: int64\n"
          ],
          "name": "stdout"
        }
      ]
    },
    {
      "metadata": {
        "id": "pZYdXEK4HMeK",
        "colab_type": "code",
        "colab": {
          "autoexec": {
            "startup": false,
            "wait_interval": 0
          },
          "base_uri": "https://localhost:8080/",
          "height": 85
        },
        "outputId": "4c4ea309-4e11-45af-871c-5483edd7e956",
        "executionInfo": {
          "status": "ok",
          "timestamp": 1529847055161,
          "user_tz": -330,
          "elapsed": 2768,
          "user": {
            "displayName": "sahith sunku",
            "photoUrl": "https://lh3.googleusercontent.com/a/default-user=s128",
            "userId": "102608795286611922387"
          }
        }
      },
      "cell_type": "code",
      "source": [
        "classifier1 = LogisticRegression()\n",
        "classifier2 = MLPClassifier()\n",
        "classifier3 = KNeighborsClassifier()\n",
        "classifier4 = GaussianProcessClassifier()\n",
        "classifier5 = DecisionTreeClassifier()\n",
        "classifier6 = RandomForestClassifier()\n",
        "classifier7 = AdaBoostClassifier()\n",
        "classifier8 = LogisticRegressionCV()\n",
        "classifier9 = SVC(kernel=\"linear\", C=0.025)\n",
        "classifier10 = SVC(gamma=2, C=0.025)\n",
        "classifier1.fit(x_train,y_train)\n",
        "classifier2.fit(x_train,y_train)\n",
        "classifier3.fit(x_train,y_train)\n",
        "classifier4.fit(x_train,y_train)\n",
        "classifier5.fit(x_train,y_train)\n",
        "classifier6.fit(x_train,y_train)\n",
        "classifier7.fit(x_train,y_train)\n",
        "classifier8.fit(x_train, y_train)\n",
        "classifier9.fit(x_train, y_train)\n",
        "classifier10.fit(x_train, y_train)"
      ],
      "execution_count": 21,
      "outputs": [
        {
          "output_type": "execute_result",
          "data": {
            "text/plain": [
              "SVC(C=0.025, cache_size=200, class_weight=None, coef0=0.0,\n",
              "  decision_function_shape='ovr', degree=3, gamma=2, kernel='rbf',\n",
              "  max_iter=-1, probability=False, random_state=None, shrinking=True,\n",
              "  tol=0.001, verbose=False)"
            ]
          },
          "metadata": {
            "tags": []
          },
          "execution_count": 21
        }
      ]
    },
    {
      "metadata": {
        "id": "Qw6yzDawHzMz",
        "colab_type": "code",
        "colab": {
          "autoexec": {
            "startup": false,
            "wait_interval": 0
          },
          "base_uri": "https://localhost:8080/",
          "height": 187
        },
        "outputId": "2657496c-7536-453e-c7dd-b0db6f1e5ecf",
        "executionInfo": {
          "status": "ok",
          "timestamp": 1529847059261,
          "user_tz": -330,
          "elapsed": 1356,
          "user": {
            "displayName": "sahith sunku",
            "photoUrl": "https://lh3.googleusercontent.com/a/default-user=s128",
            "userId": "102608795286611922387"
          }
        }
      },
      "cell_type": "code",
      "source": [
        "print(\"LogisticRegression\",format(classifier1.score(x_test, y_test)))\n",
        "print(\"MLPClassifier\",format(classifier2.score(x_test, y_test)))\n",
        "print(\"KNeighborsClassifier\",format(classifier3.score(x_test, y_test)))\n",
        "print(\"GaussianProcessClassifier\",format(classifier4.score(x_test, y_test)))\n",
        "print(\"DecisionTreeClassifier\",format(classifier5.score(x_test, y_test)))\n",
        "print(\"RandomForestClassifier\",format(classifier6.score(x_test, y_test)))\n",
        "print(\"AdaBoostClassifier\",format(classifier7.score(x_test, y_test)))\n",
        "print(\"LogisticRegressionCV\",format(classifier8.score(x_test, y_test)))\n",
        "print(\"SVC\",format(classifier9.score(x_test, y_test)))\n",
        "print(\"SVC\",format(classifier10.score(x_test, y_test)))\n"
      ],
      "execution_count": 22,
      "outputs": [
        {
          "output_type": "stream",
          "text": [
            "LogisticRegression 0.958041958041958\n",
            "MLPClassifier 0.8741258741258742\n",
            "KNeighborsClassifier 0.9370629370629371\n",
            "GaussianProcessClassifier 0.9230769230769231\n",
            "DecisionTreeClassifier 0.8811188811188811\n",
            "RandomForestClassifier 0.965034965034965\n",
            "AdaBoostClassifier 0.9790209790209791\n",
            "LogisticRegressionCV 0.951048951048951\n",
            "SVC 0.9300699300699301\n",
            "SVC 0.6293706293706294\n"
          ],
          "name": "stdout"
        }
      ]
    },
    {
      "metadata": {
        "id": "8nM0Gp-W8KOJ",
        "colab_type": "text"
      },
      "cell_type": "markdown",
      "source": [
        "AdaBoostClassifier has the best accuracy with 97.9"
      ]
    }
  ]
}