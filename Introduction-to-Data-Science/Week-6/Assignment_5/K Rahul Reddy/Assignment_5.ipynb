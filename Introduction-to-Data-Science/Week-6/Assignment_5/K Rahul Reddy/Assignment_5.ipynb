{
  "nbformat": 4,
  "nbformat_minor": 0,
  "metadata": {
    "colab": {
      "name": "Assignment 5.ipynb",
      "version": "0.3.2",
      "views": {},
      "default_view": {},
      "provenance": [],
      "collapsed_sections": []
    },
    "kernelspec": {
      "name": "python3",
      "display_name": "Python 3"
    },
    "accelerator": "GPU"
  },
  "cells": [
    {
      "metadata": {
        "id": "kG7EPXa-_7KR",
        "colab_type": "code",
        "colab": {
          "autoexec": {
            "startup": false,
            "wait_interval": 0
          },
          "base_uri": "https://localhost:8080/",
          "height": 72
        },
        "outputId": "6cc01e5c-8704-46ad-9a10-a3611bd04c97",
        "executionInfo": {
          "status": "ok",
          "timestamp": 1529772314997,
          "user_tz": -330,
          "elapsed": 1406,
          "user": {
            "displayName": "Rahul Reddy",
            "photoUrl": "//lh3.googleusercontent.com/-jrRSJFxJDlQ/AAAAAAAAAAI/AAAAAAAAJXs/nPpgXaFJxjg/s50-c-k-no/photo.jpg",
            "userId": "113667766017833961244"
          }
        }
      },
      "cell_type": "code",
      "source": [
        "import numpy as np\n",
        "import pandas as pd\n",
        "from sklearn.cross_validation import train_test_split\n",
        "from sklearn import datasets"
      ],
      "execution_count": 1,
      "outputs": [
        {
          "output_type": "stream",
          "text": [
            "/usr/local/lib/python3.6/dist-packages/sklearn/cross_validation.py:41: DeprecationWarning: This module was deprecated in version 0.18 in favor of the model_selection module into which all the refactored classes and functions are moved. Also note that the interface of the new CV iterators are different from that of this module. This module will be removed in 0.20.\n",
            "  \"This module will be removed in 0.20.\", DeprecationWarning)\n"
          ],
          "name": "stderr"
        }
      ]
    },
    {
      "metadata": {
        "id": "Iz9ptuucA-Mv",
        "colab_type": "code",
        "colab": {
          "autoexec": {
            "startup": false,
            "wait_interval": 0
          },
          "base_uri": "https://localhost:8080/",
          "height": 34
        },
        "outputId": "68394153-21d8-427a-d298-b9afab3e4f77",
        "executionInfo": {
          "status": "ok",
          "timestamp": 1529772316877,
          "user_tz": -330,
          "elapsed": 698,
          "user": {
            "displayName": "Rahul Reddy",
            "photoUrl": "//lh3.googleusercontent.com/-jrRSJFxJDlQ/AAAAAAAAAAI/AAAAAAAAJXs/nPpgXaFJxjg/s50-c-k-no/photo.jpg",
            "userId": "113667766017833961244"
          }
        }
      },
      "cell_type": "code",
      "source": [
        "bcancer_data = datasets.load_breast_cancer()\n",
        "data = bcancer_data.data\n",
        "print(bcancer_data.data.shape)"
      ],
      "execution_count": 2,
      "outputs": [
        {
          "output_type": "stream",
          "text": [
            "(569, 30)\n"
          ],
          "name": "stdout"
        }
      ]
    },
    {
      "metadata": {
        "id": "7uRPkrEOBUz_",
        "colab_type": "code",
        "colab": {
          "autoexec": {
            "startup": false,
            "wait_interval": 0
          },
          "base_uri": "https://localhost:8080/",
          "height": 191
        },
        "outputId": "982ae58f-94d8-4b6d-ea2c-f9c8d81e49b5",
        "executionInfo": {
          "status": "ok",
          "timestamp": 1529772317774,
          "user_tz": -330,
          "elapsed": 759,
          "user": {
            "displayName": "Rahul Reddy",
            "photoUrl": "//lh3.googleusercontent.com/-jrRSJFxJDlQ/AAAAAAAAAAI/AAAAAAAAJXs/nPpgXaFJxjg/s50-c-k-no/photo.jpg",
            "userId": "113667766017833961244"
          }
        }
      },
      "cell_type": "code",
      "source": [
        "df = pd.DataFrame(data, columns = bcancer_data.feature_names)\n",
        "df.columns"
      ],
      "execution_count": 3,
      "outputs": [
        {
          "output_type": "execute_result",
          "data": {
            "text/plain": [
              "Index(['mean radius', 'mean texture', 'mean perimeter', 'mean area',\n",
              "       'mean smoothness', 'mean compactness', 'mean concavity',\n",
              "       'mean concave points', 'mean symmetry', 'mean fractal dimension',\n",
              "       'radius error', 'texture error', 'perimeter error', 'area error',\n",
              "       'smoothness error', 'compactness error', 'concavity error',\n",
              "       'concave points error', 'symmetry error', 'fractal dimension error',\n",
              "       'worst radius', 'worst texture', 'worst perimeter', 'worst area',\n",
              "       'worst smoothness', 'worst compactness', 'worst concavity',\n",
              "       'worst concave points', 'worst symmetry', 'worst fractal dimension'],\n",
              "      dtype='object')"
            ]
          },
          "metadata": {
            "tags": []
          },
          "execution_count": 3
        }
      ]
    },
    {
      "metadata": {
        "id": "V7QkScA9CE42",
        "colab_type": "code",
        "colab": {
          "autoexec": {
            "startup": false,
            "wait_interval": 0
          },
          "base_uri": "https://localhost:8080/",
          "height": 34
        },
        "outputId": "d1d38233-e808-4ad5-cdff-021530c2a7c7",
        "executionInfo": {
          "status": "ok",
          "timestamp": 1529772318673,
          "user_tz": -330,
          "elapsed": 719,
          "user": {
            "displayName": "Rahul Reddy",
            "photoUrl": "//lh3.googleusercontent.com/-jrRSJFxJDlQ/AAAAAAAAAAI/AAAAAAAAJXs/nPpgXaFJxjg/s50-c-k-no/photo.jpg",
            "userId": "113667766017833961244"
          }
        }
      },
      "cell_type": "code",
      "source": [
        "data2 = pd.get_dummies(df)\n",
        "data2.shape"
      ],
      "execution_count": 4,
      "outputs": [
        {
          "output_type": "execute_result",
          "data": {
            "text/plain": [
              "(569, 30)"
            ]
          },
          "metadata": {
            "tags": []
          },
          "execution_count": 4
        }
      ]
    },
    {
      "metadata": {
        "id": "1zGWnlh4klFq",
        "colab_type": "code",
        "colab": {
          "autoexec": {
            "startup": false,
            "wait_interval": 0
          },
          "base_uri": "https://localhost:8080/",
          "height": 34
        },
        "outputId": "562948da-2db8-403f-8e12-bac31a47fee1",
        "executionInfo": {
          "status": "ok",
          "timestamp": 1529772319574,
          "user_tz": -330,
          "elapsed": 691,
          "user": {
            "displayName": "Rahul Reddy",
            "photoUrl": "//lh3.googleusercontent.com/-jrRSJFxJDlQ/AAAAAAAAAAI/AAAAAAAAJXs/nPpgXaFJxjg/s50-c-k-no/photo.jpg",
            "userId": "113667766017833961244"
          }
        }
      },
      "cell_type": "code",
      "source": [
        "X = data2.iloc[:, :]\n",
        "Y = bcancer_data.target\n",
        "print(X.shape, Y.shape)"
      ],
      "execution_count": 5,
      "outputs": [
        {
          "output_type": "stream",
          "text": [
            "(569, 30) (569,)\n"
          ],
          "name": "stdout"
        }
      ]
    },
    {
      "metadata": {
        "id": "XCyrW1e4lRJA",
        "colab_type": "code",
        "colab": {
          "autoexec": {
            "startup": false,
            "wait_interval": 0
          },
          "base_uri": "https://localhost:8080/",
          "height": 86
        },
        "outputId": "95def665-5bf7-4b64-90ac-0b974a794e30",
        "executionInfo": {
          "status": "ok",
          "timestamp": 1529772320453,
          "user_tz": -330,
          "elapsed": 711,
          "user": {
            "displayName": "Rahul Reddy",
            "photoUrl": "//lh3.googleusercontent.com/-jrRSJFxJDlQ/AAAAAAAAAAI/AAAAAAAAJXs/nPpgXaFJxjg/s50-c-k-no/photo.jpg",
            "userId": "113667766017833961244"
          }
        }
      },
      "cell_type": "code",
      "source": [
        "X_train, X_test, Y_train, Y_test = train_test_split(X, Y, random_state = 0)\n",
        "print(X_train.shape, X_test.shape, Y_train.shape, Y_test.shape, sep = '\\n')"
      ],
      "execution_count": 6,
      "outputs": [
        {
          "output_type": "stream",
          "text": [
            "(426, 30)\n",
            "(143, 30)\n",
            "(426,)\n",
            "(143,)\n"
          ],
          "name": "stdout"
        }
      ]
    },
    {
      "metadata": {
        "id": "LyuGEzGARskp",
        "colab_type": "code",
        "colab": {
          "autoexec": {
            "startup": false,
            "wait_interval": 0
          }
        }
      },
      "cell_type": "code",
      "source": [
        "Classifiers = {}"
      ],
      "execution_count": 0,
      "outputs": []
    },
    {
      "metadata": {
        "id": "s2zlkvsWmZrV",
        "colab_type": "code",
        "colab": {
          "autoexec": {
            "startup": false,
            "wait_interval": 0
          },
          "base_uri": "https://localhost:8080/",
          "height": 191
        },
        "outputId": "bf9b317d-9bb3-4808-c1d7-20e57dd1b138",
        "executionInfo": {
          "status": "ok",
          "timestamp": 1529772322285,
          "user_tz": -330,
          "elapsed": 798,
          "user": {
            "displayName": "Rahul Reddy",
            "photoUrl": "//lh3.googleusercontent.com/-jrRSJFxJDlQ/AAAAAAAAAAI/AAAAAAAAJXs/nPpgXaFJxjg/s50-c-k-no/photo.jpg",
            "userId": "113667766017833961244"
          }
        }
      },
      "cell_type": "code",
      "source": [
        "from sklearn.linear_model import LogisticRegression\n",
        "cl = LogisticRegression()\n",
        "cl.fit(X_train, Y_train)\n",
        "print(pd.DataFrame([cl.predict(X_test), Y_test]))\n",
        "Logistic_Regression = cl.score(X_test, Y_test) * 100\n",
        "Classifiers['LogisticRegression'] = Logistic_Regression\n",
        "Logistic_Regression"
      ],
      "execution_count": 8,
      "outputs": [
        {
          "output_type": "stream",
          "text": [
            "   0    1    2    3    4    5    6    7    8    9   ...   133  134  135  136  \\\n",
            "0    0    1    1    1    1    1    1    1    1    1 ...     1    1    1    1   \n",
            "1    0    1    1    1    1    1    1    1    1    1 ...     1    1    1    1   \n",
            "\n",
            "   137  138  139  140  141  142  \n",
            "0    0    0    1    1    1    0  \n",
            "1    0    0    1    1    1    0  \n",
            "\n",
            "[2 rows x 143 columns]\n"
          ],
          "name": "stdout"
        },
        {
          "output_type": "execute_result",
          "data": {
            "text/plain": [
              "95.8041958041958"
            ]
          },
          "metadata": {
            "tags": []
          },
          "execution_count": 8
        }
      ]
    },
    {
      "metadata": {
        "id": "KeaYaF1NqYtY",
        "colab_type": "code",
        "colab": {
          "autoexec": {
            "startup": false,
            "wait_interval": 0
          },
          "base_uri": "https://localhost:8080/",
          "height": 191
        },
        "outputId": "33aad205-6319-4e76-faab-1033c629a4b1",
        "executionInfo": {
          "status": "ok",
          "timestamp": 1529772323655,
          "user_tz": -330,
          "elapsed": 1053,
          "user": {
            "displayName": "Rahul Reddy",
            "photoUrl": "//lh3.googleusercontent.com/-jrRSJFxJDlQ/AAAAAAAAAAI/AAAAAAAAJXs/nPpgXaFJxjg/s50-c-k-no/photo.jpg",
            "userId": "113667766017833961244"
          }
        }
      },
      "cell_type": "code",
      "source": [
        "from sklearn.linear_model import LogisticRegressionCV\n",
        "cl = LogisticRegressionCV()\n",
        "cl.fit(X_train, Y_train)\n",
        "print(pd.DataFrame([cl.predict(X_test), Y_test]))\n",
        "Logistic_RegressionCV = cl.score(X_test, Y_test) * 100\n",
        "Classifiers['LogisticRegressionCV'] = Logistic_RegressionCV\n",
        "Logistic_RegressionCV"
      ],
      "execution_count": 9,
      "outputs": [
        {
          "output_type": "stream",
          "text": [
            "   0    1    2    3    4    5    6    7    8    9   ...   133  134  135  136  \\\n",
            "0    0    1    1    1    1    1    1    1    1    1 ...     1    1    1    1   \n",
            "1    0    1    1    1    1    1    1    1    1    1 ...     1    1    1    1   \n",
            "\n",
            "   137  138  139  140  141  142  \n",
            "0    0    0    1    1    1    0  \n",
            "1    0    0    1    1    1    0  \n",
            "\n",
            "[2 rows x 143 columns]\n"
          ],
          "name": "stdout"
        },
        {
          "output_type": "execute_result",
          "data": {
            "text/plain": [
              "96.5034965034965"
            ]
          },
          "metadata": {
            "tags": []
          },
          "execution_count": 9
        }
      ]
    },
    {
      "metadata": {
        "id": "EBJ_2py9qhPy",
        "colab_type": "code",
        "colab": {
          "autoexec": {
            "startup": false,
            "wait_interval": 0
          },
          "base_uri": "https://localhost:8080/",
          "height": 245
        },
        "outputId": "02f28524-5066-49cb-cf34-21cf330d620c",
        "executionInfo": {
          "status": "ok",
          "timestamp": 1529772324705,
          "user_tz": -330,
          "elapsed": 728,
          "user": {
            "displayName": "Rahul Reddy",
            "photoUrl": "//lh3.googleusercontent.com/-jrRSJFxJDlQ/AAAAAAAAAAI/AAAAAAAAJXs/nPpgXaFJxjg/s50-c-k-no/photo.jpg",
            "userId": "113667766017833961244"
          }
        }
      },
      "cell_type": "code",
      "source": [
        "from sklearn.linear_model import PassiveAggressiveClassifier\n",
        "cl = PassiveAggressiveClassifier()\n",
        "cl.fit(X_train, Y_train)\n",
        "print(pd.DataFrame([cl.predict(X_test), Y_test]))\n",
        "Passive_Aggressive_Classifier = cl.score(X_test, Y_test) * 100\n",
        "Classifiers['PassiveAggressiveClassifier'] = Passive_Aggressive_Classifier\n",
        "cl.score(X_test, Y_test) * 100"
      ],
      "execution_count": 10,
      "outputs": [
        {
          "output_type": "stream",
          "text": [
            "   0    1    2    3    4    5    6    7    8    9   ...   133  134  135  136  \\\n",
            "0    0    1    1    1    1    1    1    1    1    1 ...     1    1    1    1   \n",
            "1    0    1    1    1    1    1    1    1    1    1 ...     1    1    1    1   \n",
            "\n",
            "   137  138  139  140  141  142  \n",
            "0    0    0    1    1    1    0  \n",
            "1    0    0    1    1    1    0  \n",
            "\n",
            "[2 rows x 143 columns]\n"
          ],
          "name": "stdout"
        },
        {
          "output_type": "stream",
          "text": [
            "/usr/local/lib/python3.6/dist-packages/sklearn/linear_model/stochastic_gradient.py:128: FutureWarning: max_iter and tol parameters have been added in <class 'sklearn.linear_model.passive_aggressive.PassiveAggressiveClassifier'> in 0.19. If both are left unset, they default to max_iter=5 and tol=None. If tol is not None, max_iter defaults to max_iter=1000. From 0.21, default max_iter will be 1000, and default tol will be 1e-3.\n",
            "  \"and default tol will be 1e-3.\" % type(self), FutureWarning)\n"
          ],
          "name": "stderr"
        },
        {
          "output_type": "execute_result",
          "data": {
            "text/plain": [
              "92.3076923076923"
            ]
          },
          "metadata": {
            "tags": []
          },
          "execution_count": 10
        }
      ]
    },
    {
      "metadata": {
        "id": "CtZM0_8FVePN",
        "colab_type": "code",
        "colab": {
          "autoexec": {
            "startup": false,
            "wait_interval": 0
          },
          "base_uri": "https://localhost:8080/",
          "height": 245
        },
        "outputId": "b86d47e8-8ee1-44e4-e4bb-5c8748b37b86",
        "executionInfo": {
          "status": "ok",
          "timestamp": 1529772326287,
          "user_tz": -330,
          "elapsed": 798,
          "user": {
            "displayName": "Rahul Reddy",
            "photoUrl": "//lh3.googleusercontent.com/-jrRSJFxJDlQ/AAAAAAAAAAI/AAAAAAAAJXs/nPpgXaFJxjg/s50-c-k-no/photo.jpg",
            "userId": "113667766017833961244"
          }
        }
      },
      "cell_type": "code",
      "source": [
        "from sklearn.linear_model import SGDClassifier\n",
        "cl = SGDClassifier()\n",
        "cl.fit(X_train, Y_train)\n",
        "print(pd.DataFrame([cl.predict(X_test), Y_test]))\n",
        "SGDC_Classifier = cl.score(X_test, Y_test) * 100\n",
        "Classifiers['SGDClassifier'] = SGDC_Classifier\n",
        "SGDC_Classifier"
      ],
      "execution_count": 11,
      "outputs": [
        {
          "output_type": "stream",
          "text": [
            "   0    1    2    3    4    5    6    7    8    9   ...   133  134  135  136  \\\n",
            "0    0    1    1    1    1    1    1    1    1    1 ...     1    1    1    1   \n",
            "1    0    1    1    1    1    1    1    1    1    1 ...     1    1    1    1   \n",
            "\n",
            "   137  138  139  140  141  142  \n",
            "0    0    0    1    1    1    0  \n",
            "1    0    0    1    1    1    0  \n",
            "\n",
            "[2 rows x 143 columns]\n"
          ],
          "name": "stdout"
        },
        {
          "output_type": "stream",
          "text": [
            "/usr/local/lib/python3.6/dist-packages/sklearn/linear_model/stochastic_gradient.py:128: FutureWarning: max_iter and tol parameters have been added in <class 'sklearn.linear_model.stochastic_gradient.SGDClassifier'> in 0.19. If both are left unset, they default to max_iter=5 and tol=None. If tol is not None, max_iter defaults to max_iter=1000. From 0.21, default max_iter will be 1000, and default tol will be 1e-3.\n",
            "  \"and default tol will be 1e-3.\" % type(self), FutureWarning)\n"
          ],
          "name": "stderr"
        },
        {
          "output_type": "execute_result",
          "data": {
            "text/plain": [
              "89.5104895104895"
            ]
          },
          "metadata": {
            "tags": []
          },
          "execution_count": 11
        }
      ]
    },
    {
      "metadata": {
        "id": "JZQLihRYWGtS",
        "colab_type": "code",
        "colab": {
          "autoexec": {
            "startup": false,
            "wait_interval": 0
          },
          "base_uri": "https://localhost:8080/",
          "height": 191
        },
        "outputId": "82ab2229-5eb5-44b3-9ec2-3fa3882ebbfe",
        "executionInfo": {
          "status": "ok",
          "timestamp": 1529772327348,
          "user_tz": -330,
          "elapsed": 701,
          "user": {
            "displayName": "Rahul Reddy",
            "photoUrl": "//lh3.googleusercontent.com/-jrRSJFxJDlQ/AAAAAAAAAAI/AAAAAAAAJXs/nPpgXaFJxjg/s50-c-k-no/photo.jpg",
            "userId": "113667766017833961244"
          }
        }
      },
      "cell_type": "code",
      "source": [
        "from sklearn.linear_model import RidgeClassifier\n",
        "cl = RidgeClassifier()\n",
        "cl.fit(X_train, Y_train)\n",
        "print(pd.DataFrame([cl.predict(X_test), Y_test]))\n",
        "Ridge_Classifer = cl.score(X_test, Y_test) * 100\n",
        "Classifiers['RidgeClassifier'] = Ridge_Classifer\n",
        "cl.score(X_test, Y_test) * 100"
      ],
      "execution_count": 12,
      "outputs": [
        {
          "output_type": "stream",
          "text": [
            "   0    1    2    3    4    5    6    7    8    9   ...   133  134  135  136  \\\n",
            "0    0    1    1    1    1    1    1    1    1    1 ...     1    1    1    1   \n",
            "1    0    1    1    1    1    1    1    1    1    1 ...     1    1    1    1   \n",
            "\n",
            "   137  138  139  140  141  142  \n",
            "0    1    0    1    1    1    0  \n",
            "1    0    0    1    1    1    0  \n",
            "\n",
            "[2 rows x 143 columns]\n"
          ],
          "name": "stdout"
        },
        {
          "output_type": "execute_result",
          "data": {
            "text/plain": [
              "95.8041958041958"
            ]
          },
          "metadata": {
            "tags": []
          },
          "execution_count": 12
        }
      ]
    },
    {
      "metadata": {
        "id": "SMwuHAXPWa_O",
        "colab_type": "code",
        "colab": {
          "autoexec": {
            "startup": false,
            "wait_interval": 0
          },
          "base_uri": "https://localhost:8080/",
          "height": 191
        },
        "outputId": "445c7cce-8759-4f6d-9b50-8e9ae2cc959b",
        "executionInfo": {
          "status": "ok",
          "timestamp": 1529772328655,
          "user_tz": -330,
          "elapsed": 798,
          "user": {
            "displayName": "Rahul Reddy",
            "photoUrl": "//lh3.googleusercontent.com/-jrRSJFxJDlQ/AAAAAAAAAAI/AAAAAAAAJXs/nPpgXaFJxjg/s50-c-k-no/photo.jpg",
            "userId": "113667766017833961244"
          }
        }
      },
      "cell_type": "code",
      "source": [
        "from sklearn.linear_model import RidgeClassifierCV\n",
        "cl = RidgeClassifierCV()\n",
        "cl.fit(X_train, Y_train)\n",
        "print(pd.DataFrame([cl.predict(X_test), Y_test]))\n",
        "Ridge_ClassifierCV = cl.score(X_test, Y_test) * 100\n",
        "Classifiers['RidgeClassifierCV'] = Ridge_ClassifierCV\n",
        "cl.score(X_test, Y_test) * 100"
      ],
      "execution_count": 13,
      "outputs": [
        {
          "output_type": "stream",
          "text": [
            "   0    1    2    3    4    5    6    7    8    9   ...   133  134  135  136  \\\n",
            "0    0    1    1    1    1    1    1    1    1    1 ...     1    1    1    1   \n",
            "1    0    1    1    1    1    1    1    1    1    1 ...     1    1    1    1   \n",
            "\n",
            "   137  138  139  140  141  142  \n",
            "0    1    0    1    1    1    0  \n",
            "1    0    0    1    1    1    0  \n",
            "\n",
            "[2 rows x 143 columns]\n"
          ],
          "name": "stdout"
        },
        {
          "output_type": "execute_result",
          "data": {
            "text/plain": [
              "95.8041958041958"
            ]
          },
          "metadata": {
            "tags": []
          },
          "execution_count": 13
        }
      ]
    },
    {
      "metadata": {
        "id": "1gPrFK7iWexa",
        "colab_type": "code",
        "colab": {
          "autoexec": {
            "startup": false,
            "wait_interval": 0
          },
          "base_uri": "https://localhost:8080/",
          "height": 191
        },
        "outputId": "691e39ca-77cc-4dc4-c1eb-dae84c113830",
        "executionInfo": {
          "status": "ok",
          "timestamp": 1529772329683,
          "user_tz": -330,
          "elapsed": 684,
          "user": {
            "displayName": "Rahul Reddy",
            "photoUrl": "//lh3.googleusercontent.com/-jrRSJFxJDlQ/AAAAAAAAAAI/AAAAAAAAJXs/nPpgXaFJxjg/s50-c-k-no/photo.jpg",
            "userId": "113667766017833961244"
          }
        }
      },
      "cell_type": "code",
      "source": [
        "from sklearn.neighbors import KNeighborsClassifier\n",
        "cl = KNeighborsClassifier()\n",
        "cl.fit(X_train, Y_train)\n",
        "print(pd.DataFrame([cl.predict(X_test), Y_test]))\n",
        "KNeighbors_Classifier = cl.score(X_test, Y_test) * 100\n",
        "Classifiers['KNeighborsClassifier'] = KNeighbors_Classifier\n",
        "KNeighbors_Classifier"
      ],
      "execution_count": 14,
      "outputs": [
        {
          "output_type": "stream",
          "text": [
            "   0    1    2    3    4    5    6    7    8    9   ...   133  134  135  136  \\\n",
            "0    0    1    1    0    1    1    1    1    1    1 ...     1    1    1    1   \n",
            "1    0    1    1    1    1    1    1    1    1    1 ...     1    1    1    1   \n",
            "\n",
            "   137  138  139  140  141  142  \n",
            "0    0    0    1    1    1    0  \n",
            "1    0    0    1    1    1    0  \n",
            "\n",
            "[2 rows x 143 columns]\n"
          ],
          "name": "stdout"
        },
        {
          "output_type": "execute_result",
          "data": {
            "text/plain": [
              "93.7062937062937"
            ]
          },
          "metadata": {
            "tags": []
          },
          "execution_count": 14
        }
      ]
    },
    {
      "metadata": {
        "id": "C1Kv8__bT-rl",
        "colab_type": "code",
        "colab": {
          "autoexec": {
            "startup": false,
            "wait_interval": 0
          }
        }
      },
      "cell_type": "code",
      "source": [
        "results = pd.DataFrame({'Classifier' : ['LogisticRegression', 'LogisticRegressionCV', 'PassiveAggressiveClassifier', 'SGDCClassifier', 'RidgeClassifer', 'RidgeClassifierCV', 'KNeighborsClassifier'], 'Accuracy' : [Logistic_Regression, Logistic_RegressionCV, Passive_Aggressive_Classifier, SGDC_Classifier, Ridge_Classifer, Ridge_ClassifierCV, KNeighbors_Classifier]}).set_index(['Classifier'])\n"
      ],
      "execution_count": 0,
      "outputs": []
    },
    {
      "metadata": {
        "id": "crr_fEc7QTRK",
        "colab_type": "code",
        "colab": {
          "autoexec": {
            "startup": false,
            "wait_interval": 0
          },
          "base_uri": "https://localhost:8080/",
          "height": 191
        },
        "outputId": "9b62376f-01fd-4b6e-e6d1-172cb9979bf5",
        "executionInfo": {
          "status": "ok",
          "timestamp": 1529772332166,
          "user_tz": -330,
          "elapsed": 781,
          "user": {
            "displayName": "Rahul Reddy",
            "photoUrl": "//lh3.googleusercontent.com/-jrRSJFxJDlQ/AAAAAAAAAAI/AAAAAAAAJXs/nPpgXaFJxjg/s50-c-k-no/photo.jpg",
            "userId": "113667766017833961244"
          }
        }
      },
      "cell_type": "code",
      "source": [
        "from sklearn.ensemble import AdaBoostClassifier\n",
        "cl = AdaBoostClassifier()\n",
        "cl.fit(X_train, Y_train)\n",
        "print(pd.DataFrame([cl.predict(X_test), Y_test]))\n",
        "AdaBoost_Classifier = cl.score(X_test, Y_test) * 100\n",
        "Classifiers['AdaBoostClassifier'] = AdaBoost_Classifier\n",
        "AdaBoost_Classifier"
      ],
      "execution_count": 16,
      "outputs": [
        {
          "output_type": "stream",
          "text": [
            "   0    1    2    3    4    5    6    7    8    9   ...   133  134  135  136  \\\n",
            "0    0    1    1    1    1    1    1    1    1    1 ...     1    1    1    1   \n",
            "1    0    1    1    1    1    1    1    1    1    1 ...     1    1    1    1   \n",
            "\n",
            "   137  138  139  140  141  142  \n",
            "0    0    0    1    1    1    0  \n",
            "1    0    0    1    1    1    0  \n",
            "\n",
            "[2 rows x 143 columns]\n"
          ],
          "name": "stdout"
        },
        {
          "output_type": "execute_result",
          "data": {
            "text/plain": [
              "97.9020979020979"
            ]
          },
          "metadata": {
            "tags": []
          },
          "execution_count": 16
        }
      ]
    },
    {
      "metadata": {
        "id": "F2gPKg6JRLmV",
        "colab_type": "code",
        "colab": {
          "autoexec": {
            "startup": false,
            "wait_interval": 0
          },
          "base_uri": "https://localhost:8080/",
          "height": 191
        },
        "outputId": "06c0c0f6-aa41-4934-f33f-6af947290729",
        "executionInfo": {
          "status": "ok",
          "timestamp": 1529772333477,
          "user_tz": -330,
          "elapsed": 741,
          "user": {
            "displayName": "Rahul Reddy",
            "photoUrl": "//lh3.googleusercontent.com/-jrRSJFxJDlQ/AAAAAAAAAAI/AAAAAAAAJXs/nPpgXaFJxjg/s50-c-k-no/photo.jpg",
            "userId": "113667766017833961244"
          }
        }
      },
      "cell_type": "code",
      "source": [
        "from sklearn.ensemble import BaggingClassifier\n",
        "cl = BaggingClassifier()\n",
        "cl.fit(X_train, Y_train)\n",
        "print(pd.DataFrame([cl.predict(X_test), Y_test]))\n",
        "Bagging_Classifier = cl.score(X_test, Y_test) * 100\n",
        "Classifiers['BaggingClassifier'] = Bagging_Classifier\n",
        "Bagging_Classifier"
      ],
      "execution_count": 17,
      "outputs": [
        {
          "output_type": "stream",
          "text": [
            "   0    1    2    3    4    5    6    7    8    9   ...   133  134  135  136  \\\n",
            "0    0    1    1    1    1    1    1    1    1    1 ...     1    1    1    1   \n",
            "1    0    1    1    1    1    1    1    1    1    1 ...     1    1    1    1   \n",
            "\n",
            "   137  138  139  140  141  142  \n",
            "0    0    0    1    1    1    0  \n",
            "1    0    0    1    1    1    0  \n",
            "\n",
            "[2 rows x 143 columns]\n"
          ],
          "name": "stdout"
        },
        {
          "output_type": "execute_result",
          "data": {
            "text/plain": [
              "93.7062937062937"
            ]
          },
          "metadata": {
            "tags": []
          },
          "execution_count": 17
        }
      ]
    },
    {
      "metadata": {
        "id": "QrULeE9AUaS2",
        "colab_type": "code",
        "colab": {
          "autoexec": {
            "startup": false,
            "wait_interval": 0
          },
          "base_uri": "https://localhost:8080/",
          "height": 191
        },
        "outputId": "6c5cd769-9528-497b-cc41-4066f747f039",
        "executionInfo": {
          "status": "ok",
          "timestamp": 1529772334313,
          "user_tz": -330,
          "elapsed": 563,
          "user": {
            "displayName": "Rahul Reddy",
            "photoUrl": "//lh3.googleusercontent.com/-jrRSJFxJDlQ/AAAAAAAAAAI/AAAAAAAAJXs/nPpgXaFJxjg/s50-c-k-no/photo.jpg",
            "userId": "113667766017833961244"
          }
        }
      },
      "cell_type": "code",
      "source": [
        "from sklearn.ensemble import ExtraTreesClassifier\n",
        "cl = ExtraTreesClassifier()\n",
        "cl.fit(X_train, Y_train)\n",
        "print(pd.DataFrame([cl.predict(X_test), Y_test]))\n",
        "ExtraTrees_Classifier = cl.score(X_test, Y_test) * 100\n",
        "Classifiers['ExtraTreesClassifier'] = ExtraTrees_Classifier\n",
        "ExtraTrees_Classifier"
      ],
      "execution_count": 18,
      "outputs": [
        {
          "output_type": "stream",
          "text": [
            "   0    1    2    3    4    5    6    7    8    9   ...   133  134  135  136  \\\n",
            "0    0    1    1    1    1    1    1    1    1    1 ...     1    1    1    1   \n",
            "1    0    1    1    1    1    1    1    1    1    1 ...     1    1    1    1   \n",
            "\n",
            "   137  138  139  140  141  142  \n",
            "0    1    0    1    1    1    0  \n",
            "1    0    0    1    1    1    0  \n",
            "\n",
            "[2 rows x 143 columns]\n"
          ],
          "name": "stdout"
        },
        {
          "output_type": "execute_result",
          "data": {
            "text/plain": [
              "95.8041958041958"
            ]
          },
          "metadata": {
            "tags": []
          },
          "execution_count": 18
        }
      ]
    },
    {
      "metadata": {
        "id": "5xyePb2NWFad",
        "colab_type": "code",
        "colab": {
          "autoexec": {
            "startup": false,
            "wait_interval": 0
          },
          "base_uri": "https://localhost:8080/",
          "height": 191
        },
        "outputId": "f209494b-066c-4b8c-ad73-6baa4ba0dd32",
        "executionInfo": {
          "status": "ok",
          "timestamp": 1529772335235,
          "user_tz": -330,
          "elapsed": 710,
          "user": {
            "displayName": "Rahul Reddy",
            "photoUrl": "//lh3.googleusercontent.com/-jrRSJFxJDlQ/AAAAAAAAAAI/AAAAAAAAJXs/nPpgXaFJxjg/s50-c-k-no/photo.jpg",
            "userId": "113667766017833961244"
          }
        }
      },
      "cell_type": "code",
      "source": [
        "from sklearn.ensemble import GradientBoostingClassifier\n",
        "cl = GradientBoostingClassifier()\n",
        "cl.fit(X_train, Y_train)\n",
        "print(pd.DataFrame([cl.predict(X_test), Y_test]))\n",
        "GradientBoosting_Classifier = cl.score(X_test, Y_test) * 100\n",
        "Classifiers['GradientBoostingClassifier'] = GradientBoosting_Classifier\n",
        "GradientBoosting_Classifier"
      ],
      "execution_count": 19,
      "outputs": [
        {
          "output_type": "stream",
          "text": [
            "   0    1    2    3    4    5    6    7    8    9   ...   133  134  135  136  \\\n",
            "0    0    1    1    1    1    1    1    1    1    1 ...     1    1    1    1   \n",
            "1    0    1    1    1    1    1    1    1    1    1 ...     1    1    1    1   \n",
            "\n",
            "   137  138  139  140  141  142  \n",
            "0    0    0    1    1    1    0  \n",
            "1    0    0    1    1    1    0  \n",
            "\n",
            "[2 rows x 143 columns]\n"
          ],
          "name": "stdout"
        },
        {
          "output_type": "execute_result",
          "data": {
            "text/plain": [
              "96.5034965034965"
            ]
          },
          "metadata": {
            "tags": []
          },
          "execution_count": 19
        }
      ]
    },
    {
      "metadata": {
        "id": "hNo1Dv5FWTq6",
        "colab_type": "code",
        "colab": {
          "autoexec": {
            "startup": false,
            "wait_interval": 0
          },
          "base_uri": "https://localhost:8080/",
          "height": 191
        },
        "outputId": "d63c03d7-257c-4bba-a416-0c54850c1ff5",
        "executionInfo": {
          "status": "ok",
          "timestamp": 1529772336196,
          "user_tz": -330,
          "elapsed": 709,
          "user": {
            "displayName": "Rahul Reddy",
            "photoUrl": "//lh3.googleusercontent.com/-jrRSJFxJDlQ/AAAAAAAAAAI/AAAAAAAAJXs/nPpgXaFJxjg/s50-c-k-no/photo.jpg",
            "userId": "113667766017833961244"
          }
        }
      },
      "cell_type": "code",
      "source": [
        "from sklearn.ensemble import RandomForestClassifier\n",
        "cl = RandomForestClassifier()\n",
        "cl.fit(X_train, Y_train)\n",
        "print(pd.DataFrame([cl.predict(X_test), Y_test]))\n",
        "RandomForest_Classifier = cl.score(X_test, Y_test) * 100\n",
        "Classifiers['RandomForestClassifier'] = RandomForest_Classifier\n",
        "RandomForest_Classifier"
      ],
      "execution_count": 20,
      "outputs": [
        {
          "output_type": "stream",
          "text": [
            "   0    1    2    3    4    5    6    7    8    9   ...   133  134  135  136  \\\n",
            "0    0    1    1    1    1    1    1    1    1    1 ...     1    1    1    1   \n",
            "1    0    1    1    1    1    1    1    1    1    1 ...     1    1    1    1   \n",
            "\n",
            "   137  138  139  140  141  142  \n",
            "0    1    0    1    1    1    0  \n",
            "1    0    0    1    1    1    0  \n",
            "\n",
            "[2 rows x 143 columns]\n"
          ],
          "name": "stdout"
        },
        {
          "output_type": "execute_result",
          "data": {
            "text/plain": [
              "94.4055944055944"
            ]
          },
          "metadata": {
            "tags": []
          },
          "execution_count": 20
        }
      ]
    },
    {
      "metadata": {
        "id": "6k-EHdwDSv1J",
        "colab_type": "code",
        "colab": {
          "autoexec": {
            "startup": false,
            "wait_interval": 0
          },
          "base_uri": "https://localhost:8080/",
          "height": 426
        },
        "outputId": "6d4fb4ae-3ef6-4b6f-f443-bc17df719ee5",
        "executionInfo": {
          "status": "ok",
          "timestamp": 1529773177770,
          "user_tz": -330,
          "elapsed": 796,
          "user": {
            "displayName": "Rahul Reddy",
            "photoUrl": "//lh3.googleusercontent.com/-jrRSJFxJDlQ/AAAAAAAAAAI/AAAAAAAAJXs/nPpgXaFJxjg/s50-c-k-no/photo.jpg",
            "userId": "113667766017833961244"
          }
        }
      },
      "cell_type": "code",
      "source": [
        "results = pd.DataFrame.from_dict(Classifiers, orient = 'index')\n",
        "results"
      ],
      "execution_count": 50,
      "outputs": [
        {
          "output_type": "execute_result",
          "data": {
            "text/html": [
              "<div>\n",
              "<style scoped>\n",
              "    .dataframe tbody tr th:only-of-type {\n",
              "        vertical-align: middle;\n",
              "    }\n",
              "\n",
              "    .dataframe tbody tr th {\n",
              "        vertical-align: top;\n",
              "    }\n",
              "\n",
              "    .dataframe thead th {\n",
              "        text-align: right;\n",
              "    }\n",
              "</style>\n",
              "<table border=\"1\" class=\"dataframe\">\n",
              "  <thead>\n",
              "    <tr style=\"text-align: right;\">\n",
              "      <th></th>\n",
              "      <th>0</th>\n",
              "    </tr>\n",
              "  </thead>\n",
              "  <tbody>\n",
              "    <tr>\n",
              "      <th>LogisticRegression</th>\n",
              "      <td>95.804196</td>\n",
              "    </tr>\n",
              "    <tr>\n",
              "      <th>LogisticRegressionCV</th>\n",
              "      <td>96.503497</td>\n",
              "    </tr>\n",
              "    <tr>\n",
              "      <th>PassiveAggressiveClassifier</th>\n",
              "      <td>92.307692</td>\n",
              "    </tr>\n",
              "    <tr>\n",
              "      <th>SGDClassifier</th>\n",
              "      <td>89.510490</td>\n",
              "    </tr>\n",
              "    <tr>\n",
              "      <th>RidgeClassifier</th>\n",
              "      <td>95.804196</td>\n",
              "    </tr>\n",
              "    <tr>\n",
              "      <th>RidgeClassifierCV</th>\n",
              "      <td>95.804196</td>\n",
              "    </tr>\n",
              "    <tr>\n",
              "      <th>KNeighborsClassifier</th>\n",
              "      <td>93.706294</td>\n",
              "    </tr>\n",
              "    <tr>\n",
              "      <th>AdaBoostClassifier</th>\n",
              "      <td>97.902098</td>\n",
              "    </tr>\n",
              "    <tr>\n",
              "      <th>BaggingClassifier</th>\n",
              "      <td>93.706294</td>\n",
              "    </tr>\n",
              "    <tr>\n",
              "      <th>ExtraTreesClassifier</th>\n",
              "      <td>95.804196</td>\n",
              "    </tr>\n",
              "    <tr>\n",
              "      <th>GradientBoostingClassifier</th>\n",
              "      <td>96.503497</td>\n",
              "    </tr>\n",
              "    <tr>\n",
              "      <th>RandomForestClassifier</th>\n",
              "      <td>94.405594</td>\n",
              "    </tr>\n",
              "  </tbody>\n",
              "</table>\n",
              "</div>"
            ],
            "text/plain": [
              "                                     0\n",
              "LogisticRegression           95.804196\n",
              "LogisticRegressionCV         96.503497\n",
              "PassiveAggressiveClassifier  92.307692\n",
              "SGDClassifier                89.510490\n",
              "RidgeClassifier              95.804196\n",
              "RidgeClassifierCV            95.804196\n",
              "KNeighborsClassifier         93.706294\n",
              "AdaBoostClassifier           97.902098\n",
              "BaggingClassifier            93.706294\n",
              "ExtraTreesClassifier         95.804196\n",
              "GradientBoostingClassifier   96.503497\n",
              "RandomForestClassifier       94.405594"
            ]
          },
          "metadata": {
            "tags": []
          },
          "execution_count": 50
        }
      ]
    },
    {
      "metadata": {
        "id": "gYF91Y7dXQwE",
        "colab_type": "code",
        "colab": {
          "autoexec": {
            "startup": false,
            "wait_interval": 0
          }
        }
      },
      "cell_type": "code",
      "source": [
        ""
      ],
      "execution_count": 0,
      "outputs": []
    }
  ]
}