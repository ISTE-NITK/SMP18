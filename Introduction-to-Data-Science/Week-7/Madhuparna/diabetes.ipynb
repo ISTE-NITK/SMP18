{
 "cells": [
  {
   "cell_type": "code",
   "execution_count": 1,
   "metadata": {},
   "outputs": [],
   "source": [
    "import numpy as np\n",
    "import pandas as pd\n",
    "import matplotlib as plt\n",
    "from sklearn.model_selection import train_test_split\n",
    "from sklearn.neural_network import MLPClassifier"
   ]
  },
  {
   "cell_type": "code",
   "execution_count": 4,
   "metadata": {},
   "outputs": [
    {
     "name": "stdout",
     "output_type": "stream",
     "text": [
      "<class 'pandas.core.frame.DataFrame'>\n",
      "RangeIndex: 587 entries, 0 to 586\n",
      "Data columns (total 9 columns):\n",
      "NumPreg    587 non-null int64\n",
      "PGC        587 non-null int64\n",
      "BP         587 non-null int64\n",
      "TSFT       587 non-null int64\n",
      "insulin    587 non-null int64\n",
      "BMI        587 non-null float64\n",
      "DPF        587 non-null float64\n",
      "Age        587 non-null int64\n",
      "Class      587 non-null int64\n",
      "dtypes: float64(2), int64(7)\n",
      "memory usage: 41.4 KB\n"
     ]
    }
   ],
   "source": [
    "#Loading data\n",
    "\n",
    "col_Names=[\"NumPreg\", \"PGC\",\"BP\", \"TSFT\", \"insulin\",\"BMI\",\"DPF\",\"Age\",\"Class\"]\n",
    "data= pd.read_csv(\"train.csv\",names=col_Names)\n",
    "data.info()\n"
   ]
  },
  {
   "cell_type": "code",
   "execution_count": 5,
   "metadata": {},
   "outputs": [
    {
     "name": "stdout",
     "output_type": "stream",
     "text": [
      "Y shape (587, 1)\n",
      "X shape (587, 8)\n"
     ]
    },
    {
     "name": "stderr",
     "output_type": "stream",
     "text": [
      "C:\\Users\\MADHUPARNA BHOWMIK\\Anaconda3\\lib\\site-packages\\ipykernel_launcher.py:2: FutureWarning: reshape is deprecated and will raise in a subsequent release. Please use .values.reshape(...) instead\n",
      "  \n"
     ]
    }
   ],
   "source": [
    "#splitting data into X and Y\n",
    "y=data[\"Class\"].reshape(587,1)\n",
    "X=data.drop(['Class'],axis=1)\n",
    "print(\"Y shape\",y.shape)\n",
    "print(\"X shape\",X.shape)"
   ]
  },
  {
   "cell_type": "code",
   "execution_count": 6,
   "metadata": {},
   "outputs": [
    {
     "name": "stdout",
     "output_type": "stream",
     "text": [
      "Size of training set: 469\n",
      "size of cross validation set: 118\n"
     ]
    }
   ],
   "source": [
    "#Splitting data into train and cross validation set \n",
    "X_train, X_cv, y_train, y_cv = train_test_split(X, y, test_size=0.2, random_state=42)\n",
    "print('Size of training set:',len(X_train))\n",
    "print('size of cross validation set:',len(X_cv))\n"
   ]
  },
  {
   "cell_type": "code",
   "execution_count": 7,
   "metadata": {},
   "outputs": [
    {
     "data": {
      "text/plain": [
       "StandardScaler(copy=True, with_mean=True, with_std=True)"
      ]
     },
     "execution_count": 7,
     "metadata": {},
     "output_type": "execute_result"
    }
   ],
   "source": [
    "#feature scaling\n",
    "from sklearn.preprocessing import StandardScaler\n",
    "scaler = StandardScaler()\n",
    "# Fit only to the training data\n",
    "scaler.fit(X_train)\n",
    "scaler.fit(X_cv)"
   ]
  },
  {
   "cell_type": "code",
   "execution_count": 8,
   "metadata": {},
   "outputs": [
    {
     "name": "stderr",
     "output_type": "stream",
     "text": [
      "C:\\Users\\MADHUPARNA BHOWMIK\\Anaconda3\\lib\\site-packages\\sklearn\\neural_network\\multilayer_perceptron.py:912: DataConversionWarning: A column-vector y was passed when a 1d array was expected. Please change the shape of y to (n_samples, ), for example using ravel().\n",
      "  y = column_or_1d(y, warn=True)\n"
     ]
    },
    {
     "name": "stdout",
     "output_type": "stream",
     "text": [
      "Maximum accuracy obtained for alpha = 0.1\n",
      "Traning set accuracy is: 0.7761194029850746\n",
      "Cross validation set accuracy is: 0.7711864406779662\n"
     ]
    }
   ],
   "source": [
    "#NEURAL NETWORK\n",
    "#choosing value of alpha and hidden layer size and number tuning\n",
    "i=0.1\n",
    "best_alpha=0\n",
    "max_accu=0\n",
    "train_accu=0\n",
    "while i<1:\n",
    "    mlp = MLPClassifier(activation=\"relu\",max_iter=250,alpha=i,random_state=42,hidden_layer_sizes=(50,50,20,20,10))\n",
    "    mlp.fit(X_train, y_train)\n",
    "    score=(mlp.score(X_train,y_train))\n",
    "    test_score=(mlp.score(X_cv,y_cv))\n",
    "    if max_accu<test_score:\n",
    "        max_accu=test_score\n",
    "        train_accu=score\n",
    "        best_alpha=i\n",
    "    i=i+0.01\n",
    "print('Maximum accuracy obtained for alpha =',best_alpha)\n",
    "print('Traning set accuracy is:',train_accu)\n",
    "print('Cross validation set accuracy is:',max_accu)"
   ]
  },
  {
   "cell_type": "code",
   "execution_count": 14,
   "metadata": {},
   "outputs": [
    {
     "name": "stderr",
     "output_type": "stream",
     "text": [
      "C:\\Users\\MADHUPARNA BHOWMIK\\Anaconda3\\lib\\site-packages\\sklearn\\neural_network\\multilayer_perceptron.py:912: DataConversionWarning: A column-vector y was passed when a 1d array was expected. Please change the shape of y to (n_samples, ), for example using ravel().\n",
      "  y = column_or_1d(y, warn=True)\n"
     ]
    },
    {
     "name": "stdout",
     "output_type": "stream",
     "text": [
      "[1 0 1 0 0 1 1 0 0 1 1 1 0 0 0 0 1 1 1 0 0 0 0 1 1 0 1 0 0 0 0 1 0 0 1 0 0\n",
      " 0 0 0 1 0 1 0 0 0 0 0 0 0 0 0 0 1 1 0 1 0 1 1 1 0 0 0 0 1 0 1 0 1 0 0 1 1\n",
      " 1 0 0 0 0 0 1 0 1 0 0 0 0 1 0 0 1 0 0 1 0 0 0 0 1 1 0 1 0 0 0 0 0 0 0 1 0\n",
      " 0 0 0 0 1 0 0 0 0 1 0 0 0 1 0 0 1 1 0 1 0 0 0 1 0 0 0 0 0 1 0 0 0 0 0 0 0\n",
      " 0 0 0 0 1 0 0 0 0 0 0 0 1 0 1 0 0 0 1 0 0 0 0 1 0 1 0 1 1 0 0 0]\n"
     ]
    }
   ],
   "source": [
    "#Predicting\n",
    "X_test=pd.read_csv('test.csv')\n",
    "mlp = MLPClassifier(activation=\"relu\",max_iter=250,alpha=best_alpha,random_state=42,hidden_layer_sizes=(50,50,20,20,10))\n",
    "mlp.fit(X_train, y_train)\n",
    "print(mlp.predict(X_test))"
   ]
  },
  {
   "cell_type": "code",
   "execution_count": null,
   "metadata": {},
   "outputs": [],
   "source": []
  },
  {
   "cell_type": "code",
   "execution_count": null,
   "metadata": {},
   "outputs": [],
   "source": []
  }
 ],
 "metadata": {
  "kernelspec": {
   "display_name": "Python 3",
   "language": "python",
   "name": "python3"
  },
  "language_info": {
   "codemirror_mode": {
    "name": "ipython",
    "version": 3
   },
   "file_extension": ".py",
   "mimetype": "text/x-python",
   "name": "python",
   "nbconvert_exporter": "python",
   "pygments_lexer": "ipython3",
   "version": "3.6.4"
  }
 },
 "nbformat": 4,
 "nbformat_minor": 2
}
